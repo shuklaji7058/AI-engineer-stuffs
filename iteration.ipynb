{
 "cells": [
  {
   "cell_type": "markdown",
   "id": "bb351a56-ec18-440d-babf-9ad0b626b9c7",
   "metadata": {},
   "source": [
    "Iteration is ability to execute a certain code repeatedly"
   ]
  },
  {
   "cell_type": "code",
   "execution_count": 1,
   "id": "63d835c6-8b55-40e1-b604-71939369f8bb",
   "metadata": {},
   "outputs": [],
   "source": [
    "even=[0,2,4,6,8,10,12,14,16,18,20]\n"
   ]
  },
  {
   "cell_type": "code",
   "execution_count": 7,
   "id": "f7bb352d-fe5c-4119-a0da-2fd7d006077a",
   "metadata": {},
   "outputs": [
    {
     "name": "stdout",
     "output_type": "stream",
     "text": [
      "0 2 4 6 8 10 12 14 16 18 20 "
     ]
    }
   ],
   "source": [
    "for n in even:\n",
    "    print(n, end=' ')"
   ]
  },
  {
   "cell_type": "markdown",
   "id": "315a8863-1254-4355-a5b9-ae6b3720699f",
   "metadata": {},
   "source": [
    "while loops"
   ]
  },
  {
   "cell_type": "code",
   "execution_count": null,
   "id": "368656ac-f593-4827-9263-f430b0985c51",
   "metadata": {},
   "outputs": [],
   "source": [
    "x = 0\n",
    "while x <= 20:\n",
    "    print(x, end=\" \")\n",
    "    x = x + 2"
   ]
  },
  {
   "cell_type": "markdown",
   "id": "c9f3dd65-25a6-4a7e-a42b-eee00cc07387",
   "metadata": {},
   "source": [
    "Exercise - Conditional Statements, Functions, and Loops "
   ]
  },
  {
   "cell_type": "markdown",
   "id": "2bc7f493-7d06-4c0d-b29f-1835b4971134",
   "metadata": {},
   "source": [
    "You are provided with the nums list. Define a function called count() containing a while loop to count the number of values in the nums list that are lower than 20."
   ]
  },
  {
   "cell_type": "code",
   "execution_count": 1,
   "id": "40e66c79-1f14-4869-9b20-c89591061bed",
   "metadata": {},
   "outputs": [
    {
     "data": {
      "text/plain": [
       "2"
      ]
     },
     "execution_count": 1,
     "metadata": {},
     "output_type": "execute_result"
    }
   ],
   "source": [
    "nums = [1,35,12,24,31,51,70,100]\n",
    "def count(numbers):\n",
    "    numbers = sorted(numbers)\n",
    "    x = 0\n",
    "    while numbers[x] < 20:\n",
    "        x += 1\n",
    "    return x\n",
    "\n",
    "count(nums)"
   ]
  },
  {
   "cell_type": "code",
   "execution_count": null,
   "id": "19a27203-d301-4523-80c8-9ddd3717ca91",
   "metadata": {},
   "outputs": [],
   "source": []
  }
 ],
 "metadata": {
  "kernelspec": {
   "display_name": "Python [conda env:base] *",
   "language": "python",
   "name": "conda-base-py"
  },
  "language_info": {
   "codemirror_mode": {
    "name": "ipython",
    "version": 3
   },
   "file_extension": ".py",
   "mimetype": "text/x-python",
   "name": "python",
   "nbconvert_exporter": "python",
   "pygments_lexer": "ipython3",
   "version": "3.12.4"
  }
 },
 "nbformat": 4,
 "nbformat_minor": 5
}
