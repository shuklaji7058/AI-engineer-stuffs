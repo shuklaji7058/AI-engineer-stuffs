{
 "cells": [
  {
   "cell_type": "code",
   "execution_count": 79,
   "id": "ae37cf66-080e-4321-8773-0804fed77ebe",
   "metadata": {},
   "outputs": [
    {
     "data": {
      "text/plain": [
       "['Anish', 'Ravi', 'Ritu', 'Rinku']"
      ]
     },
     "execution_count": 79,
     "metadata": {},
     "output_type": "execute_result"
    }
   ],
   "source": [
    "name=[\"Anish\",\"Ravi\",\"Ritu\",\"Rinku\"]\n",
    "name"
   ]
  },
  {
   "cell_type": "code",
   "execution_count": 80,
   "id": "15b4b01d-fbea-4444-8906-96867cbe3b74",
   "metadata": {},
   "outputs": [
    {
     "name": "stdout",
     "output_type": "stream",
     "text": [
      "Ravi\n"
     ]
    }
   ],
   "source": [
    "print (name[1])"
   ]
  },
  {
   "cell_type": "code",
   "execution_count": 81,
   "id": "53aa1010-5593-4df9-b394-15a9eaa4cceb",
   "metadata": {},
   "outputs": [
    {
     "name": "stdout",
     "output_type": "stream",
     "text": [
      "Rinku\n"
     ]
    }
   ],
   "source": [
    "print(name[-1])"
   ]
  },
  {
   "cell_type": "code",
   "execution_count": 82,
   "id": "c60c0054-0de5-42b1-b96f-f642fa837db5",
   "metadata": {},
   "outputs": [],
   "source": [
    "name[3]=\"Maya\""
   ]
  },
  {
   "cell_type": "code",
   "execution_count": 83,
   "id": "3d5a90dc-12c7-469f-9d42-180929f415ad",
   "metadata": {},
   "outputs": [
    {
     "data": {
      "text/plain": [
       "['Anish', 'Ravi', 'Ritu', 'Maya']"
      ]
     },
     "execution_count": 83,
     "metadata": {},
     "output_type": "execute_result"
    }
   ],
   "source": [
    "name"
   ]
  },
  {
   "cell_type": "code",
   "execution_count": 84,
   "id": "79a008bf-d605-4bb7-b1df-dff2c149f537",
   "metadata": {},
   "outputs": [],
   "source": [
    "del name[2]"
   ]
  },
  {
   "cell_type": "code",
   "execution_count": 86,
   "id": "25741045-c142-4aad-ac68-813a4928c99d",
   "metadata": {},
   "outputs": [],
   "source": [
    "name.extend([\"Dinesh\",\"Rinku\",\"Ritu\"])\n"
   ]
  },
  {
   "cell_type": "code",
   "execution_count": 87,
   "id": "a6a6c061-a39e-446b-8f49-07a19cde25b5",
   "metadata": {},
   "outputs": [
    {
     "data": {
      "text/plain": [
       "['Anish', 'Ravi', 'Maya', 'Dinesh', 'Rinku', 'Dinesh', 'Rinku', 'Ritu']"
      ]
     },
     "execution_count": 87,
     "metadata": {},
     "output_type": "execute_result"
    }
   ],
   "source": [
    "name"
   ]
  },
  {
   "cell_type": "code",
   "execution_count": 88,
   "id": "048aeee5-7aad-4982-aea0-48d4fddd7c2d",
   "metadata": {},
   "outputs": [
    {
     "name": "stdout",
     "output_type": "stream",
     "text": [
      "The first name is Anish.\n"
     ]
    }
   ],
   "source": [
    "print(\"The first name is \" + name[0] + \".\")"
   ]
  },
  {
   "cell_type": "code",
   "execution_count": 89,
   "id": "3e33cd8d-81e6-4486-9be5-280612e16418",
   "metadata": {},
   "outputs": [
    {
     "data": {
      "text/plain": [
       "8"
      ]
     },
     "execution_count": 89,
     "metadata": {},
     "output_type": "execute_result"
    }
   ],
   "source": [
    "len(name)"
   ]
  },
  {
   "cell_type": "code",
   "execution_count": 90,
   "id": "eb3984a7-81bb-447d-86ea-62829c9bd968",
   "metadata": {},
   "outputs": [
    {
     "data": {
      "text/plain": [
       "4"
      ]
     },
     "execution_count": 90,
     "metadata": {},
     "output_type": "execute_result"
    }
   ],
   "source": [
    "len(\"name\")"
   ]
  },
  {
   "cell_type": "markdown",
   "id": "2be2e2df-e4a2-4033-aa5a-8cf6ca7088e9",
   "metadata": {},
   "source": [
    "Slicing\n"
   ]
  },
  {
   "cell_type": "code",
   "execution_count": 115,
   "id": "5f45bfb6-5aac-4c95-bf9b-0ec8fbfbfbd0",
   "metadata": {},
   "outputs": [],
   "source": [
    "part=['Anish', 'Ravi', 'Maya', 'Dinesh', 'Rinku', 'Ritu']"
   ]
  },
  {
   "cell_type": "code",
   "execution_count": 116,
   "id": "c6dbbb7f-9ac0-4577-b338-130d2a22641a",
   "metadata": {},
   "outputs": [
    {
     "data": {
      "text/plain": [
       "['Anish', 'Ravi', 'Maya', 'Dinesh', 'Rinku', 'Ritu']"
      ]
     },
     "execution_count": 116,
     "metadata": {},
     "output_type": "execute_result"
    }
   ],
   "source": [
    "part"
   ]
  },
  {
   "cell_type": "code",
   "execution_count": 117,
   "id": "78922c19-1789-4ba4-984d-0852ad47cda2",
   "metadata": {},
   "outputs": [
    {
     "data": {
      "text/plain": [
       "['Ravi', 'Maya', 'Dinesh']"
      ]
     },
     "execution_count": 117,
     "metadata": {},
     "output_type": "execute_result"
    }
   ],
   "source": [
    "part[1:4]"
   ]
  },
  {
   "cell_type": "code",
   "execution_count": 118,
   "id": "8640c3b1-6de9-425a-879d-df00c50aed96",
   "metadata": {},
   "outputs": [
    {
     "data": {
      "text/plain": [
       "['Dinesh', 'Rinku', 'Ritu']"
      ]
     },
     "execution_count": 118,
     "metadata": {},
     "output_type": "execute_result"
    }
   ],
   "source": [
    "part[3:]"
   ]
  },
  {
   "cell_type": "code",
   "execution_count": 119,
   "id": "0016328d-e6c8-4865-88c5-147b5367dfd3",
   "metadata": {},
   "outputs": [
    {
     "data": {
      "text/plain": [
       "['Ritu']"
      ]
     },
     "execution_count": 119,
     "metadata": {},
     "output_type": "execute_result"
    }
   ],
   "source": [
    "part[-1:]"
   ]
  },
  {
   "cell_type": "code",
   "execution_count": 120,
   "id": "23d6ce34-274c-41fb-a627-41808afa95b9",
   "metadata": {},
   "outputs": [
    {
     "data": {
      "text/plain": [
       "['Anish']"
      ]
     },
     "execution_count": 120,
     "metadata": {},
     "output_type": "execute_result"
    }
   ],
   "source": [
    "part[:1]"
   ]
  },
  {
   "cell_type": "code",
   "execution_count": 121,
   "id": "e35b3331-ea86-4651-b76f-e6009a8f5981",
   "metadata": {},
   "outputs": [
    {
     "data": {
      "text/plain": [
       "3"
      ]
     },
     "execution_count": 121,
     "metadata": {},
     "output_type": "execute_result"
    }
   ],
   "source": [
    "part.index(\"Dinesh\")"
   ]
  },
  {
   "cell_type": "code",
   "execution_count": 123,
   "id": "71f7f9cd-04ef-45a0-841f-755c235ee995",
   "metadata": {},
   "outputs": [
    {
     "data": {
      "text/plain": [
       "['Aarush', 'Parth']"
      ]
     },
     "execution_count": 123,
     "metadata": {},
     "output_type": "execute_result"
    }
   ],
   "source": [
    "new=[\"Aarush\",\"Parth\"]\n",
    "new"
   ]
  },
  {
   "cell_type": "code",
   "execution_count": 124,
   "id": "f9101256-fc6c-40b4-b222-8d1a28c0865d",
   "metadata": {},
   "outputs": [],
   "source": [
    "family=[part,new]"
   ]
  },
  {
   "cell_type": "code",
   "execution_count": 125,
   "id": "52e9eb02-d42e-4165-97e3-471e3151c800",
   "metadata": {},
   "outputs": [
    {
     "data": {
      "text/plain": [
       "[['Anish', 'Ravi', 'Maya', 'Dinesh', 'Rinku', 'Ritu'], ['Aarush', 'Parth']]"
      ]
     },
     "execution_count": 125,
     "metadata": {},
     "output_type": "execute_result"
    }
   ],
   "source": [
    "family"
   ]
  },
  {
   "cell_type": "code",
   "execution_count": 128,
   "id": "d1a58cc1-f483-4f0b-9480-cfc499451cf9",
   "metadata": {},
   "outputs": [],
   "source": [
    "part.sort()"
   ]
  },
  {
   "cell_type": "code",
   "execution_count": 129,
   "id": "ae26ce55-fa84-435c-b7da-f73688318cec",
   "metadata": {},
   "outputs": [
    {
     "data": {
      "text/plain": [
       "['Anish', 'Dinesh', 'Maya', 'Ravi', 'Rinku', 'Ritu']"
      ]
     },
     "execution_count": 129,
     "metadata": {},
     "output_type": "execute_result"
    }
   ],
   "source": [
    "part"
   ]
  },
  {
   "cell_type": "code",
   "execution_count": 130,
   "id": "ec3aeaca-0acf-4b34-92bc-882e5956eac6",
   "metadata": {},
   "outputs": [
    {
     "data": {
      "text/plain": [
       "['Ritu', 'Rinku', 'Ravi', 'Maya', 'Dinesh', 'Anish']"
      ]
     },
     "execution_count": 130,
     "metadata": {},
     "output_type": "execute_result"
    }
   ],
   "source": [
    "part.sort(reverse=True)\n",
    "part"
   ]
  },
  {
   "cell_type": "code",
   "execution_count": 131,
   "id": "27143b57-56cb-4e0b-93f4-01d36e4461ab",
   "metadata": {},
   "outputs": [
    {
     "data": {
      "text/plain": [
       "[100, 115]"
      ]
     },
     "execution_count": 131,
     "metadata": {},
     "output_type": "execute_result"
    }
   ],
   "source": [
    "Numbers = [15, 40, 50, 100, 115, 140]\n",
    "Numbers[-3:-1]"
   ]
  },
  {
   "cell_type": "code",
   "execution_count": 132,
   "id": "37050a4a-bd06-4424-bba2-15dcf2ca6335",
   "metadata": {},
   "outputs": [
    {
     "data": {
      "text/plain": [
       "[15, 40, 50, 100]"
      ]
     },
     "execution_count": 132,
     "metadata": {},
     "output_type": "execute_result"
    }
   ],
   "source": [
    "Numbers = [15, 40, 50, 100, 115, 140]\n",
    "Numbers[:4]"
   ]
  },
  {
   "cell_type": "code",
   "execution_count": null,
   "id": "70c8fa12-f598-4e47-a46f-df1e1dfcd3e9",
   "metadata": {},
   "outputs": [],
   "source": []
  }
 ],
 "metadata": {
  "kernelspec": {
   "display_name": "Python [conda env:base] *",
   "language": "python",
   "name": "conda-base-py"
  },
  "language_info": {
   "codemirror_mode": {
    "name": "ipython",
    "version": 3
   },
   "file_extension": ".py",
   "mimetype": "text/x-python",
   "name": "python",
   "nbconvert_exporter": "python",
   "pygments_lexer": "ipython3",
   "version": "3.12.4"
  }
 },
 "nbformat": 4,
 "nbformat_minor": 5
}
