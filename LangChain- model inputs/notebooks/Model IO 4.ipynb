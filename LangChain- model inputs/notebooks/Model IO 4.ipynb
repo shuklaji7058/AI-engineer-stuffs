{
 "cells": [
  {
   "cell_type": "code",
   "execution_count": 3,
   "id": "596f1aae-dd72-4271-bcea-4f72014d91aa",
   "metadata": {},
   "outputs": [],
   "source": [
    "from langchain_core.prompts import PromptTemplate"
   ]
  },
  {
   "cell_type": "code",
   "execution_count": 4,
   "id": "9158da2f-bde7-473d-bef2-e2990a6e44c9",
   "metadata": {},
   "outputs": [],
   "source": [
    "TEMPLATE = '''\n",
    "System:\n",
    "{description}\n",
    "\n",
    "Human:\n",
    "I've recently adopted a {pet}.\n",
    "Could you suggest some {pet} names?\n",
    "'''"
   ]
  },
  {
   "cell_type": "code",
   "execution_count": 5,
   "id": "9b973e29-1fba-4c15-8d72-3cff08ea1985",
   "metadata": {},
   "outputs": [],
   "source": [
    "prompt_template = PromptTemplate.from_template(template = TEMPLATE)"
   ]
  },
  {
   "cell_type": "code",
   "execution_count": 6,
   "id": "b94f514b-a9b7-486e-902e-a4ae8c45b485",
   "metadata": {},
   "outputs": [
    {
     "data": {
      "text/plain": [
       "PromptTemplate(input_variables=['description', 'pet'], input_types={}, partial_variables={}, template=\"\\nSystem:\\n{description}\\n\\nHuman:\\nI've recently adopted a {pet}.\\nCould you suggest some {pet} names?\\n\")"
      ]
     },
     "execution_count": 6,
     "metadata": {},
     "output_type": "execute_result"
    }
   ],
   "source": [
    "prompt_template"
   ]
  },
  {
   "cell_type": "code",
   "execution_count": 7,
   "id": "06c544f4-e4ea-4c84-b582-771f70abf6db",
   "metadata": {},
   "outputs": [],
   "source": [
    "prompt_value = prompt_template.invoke({'description':''' The chatbot should reluctantly answer questions\n",
    "with sarcastic responses. ''', \n",
    "                                       'pet':'dog'})"
   ]
  },
  {
   "cell_type": "code",
   "execution_count": 8,
   "id": "093cd6bc-5e63-440a-b216-1e81d3f7de52",
   "metadata": {},
   "outputs": [
    {
     "data": {
      "text/plain": [
       "StringPromptValue(text=\"\\nSystem:\\n The chatbot should reluctantly answer questions\\nwith sarcastic responses. \\n\\nHuman:\\nI've recently adopted a dog.\\nCould you suggest some dog names?\\n\")"
      ]
     },
     "execution_count": 8,
     "metadata": {},
     "output_type": "execute_result"
    }
   ],
   "source": [
    "prompt_value"
   ]
  },
  {
   "cell_type": "code",
   "execution_count": 9,
   "id": "d4181b89-09c0-4c9e-8b69-f4ab6aa70cf7",
   "metadata": {},
   "outputs": [
    {
     "name": "stdout",
     "output_type": "stream",
     "text": [
      "\n",
      "System:\n",
      " The chatbot should reluctantly answer questions\n",
      "with sarcastic responses. \n",
      "\n",
      "Human:\n",
      "I've recently adopted a dog.\n",
      "Could you suggest some dog names?\n",
      "\n"
     ]
    }
   ],
   "source": [
    "print(prompt_value.text)"
   ]
  },
  {
   "cell_type": "code",
   "execution_count": null,
   "id": "ddac6d96-cc6e-465f-8242-8306ef1dc3d7",
   "metadata": {},
   "outputs": [],
   "source": []
  }
 ],
 "metadata": {
  "kernelspec": {
   "display_name": "langchain_env",
   "language": "python",
   "name": "langchain_env"
  },
  "language_info": {
   "codemirror_mode": {
    "name": "ipython",
    "version": 3
   },
   "file_extension": ".py",
   "mimetype": "text/x-python",
   "name": "python",
   "nbconvert_exporter": "python",
   "pygments_lexer": "ipython3",
   "version": "3.10.10"
  }
 },
 "nbformat": 4,
 "nbformat_minor": 5
}
