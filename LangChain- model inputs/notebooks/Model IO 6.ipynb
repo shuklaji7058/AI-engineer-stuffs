{
 "cells": [
  {
   "cell_type": "code",
   "execution_count": 1,
   "id": "6d8b8f27-a104-4406-a46e-a329e1fbf185",
   "metadata": {},
   "outputs": [],
   "source": [
    "%load_ext dotenv\n",
    "%dotenv"
   ]
  },
  {
   "cell_type": "code",
   "execution_count": 2,
   "id": "34f2873c-f926-4bee-9e79-540e7e5e4357",
   "metadata": {},
   "outputs": [],
   "source": [
    "from langchain_google_genai import ChatGoogleGenerativeAI"
   ]
  },
  {
   "cell_type": "code",
   "execution_count": 3,
   "id": "0cd4d174-de6b-4a68-8915-ab0661723218",
   "metadata": {},
   "outputs": [],
   "source": [
    "from langchain_core.prompts import (ChatPromptTemplate,\n",
    "                                    HumanMessagePromptTemplate, \n",
    "                                    AIMessagePromptTemplate, \n",
    "                                    FewShotChatMessagePromptTemplate)"
   ]
  },
  {
   "cell_type": "code",
   "execution_count": 4,
   "id": "48eaba8b-28c5-4f25-a5e4-680bcde1d72b",
   "metadata": {},
   "outputs": [],
   "source": [
    "import os"
   ]
  },
  {
   "cell_type": "code",
   "execution_count": 5,
   "id": "47b5275f-a72b-4053-a7cb-ca84e540b314",
   "metadata": {},
   "outputs": [],
   "source": [
    "chat = ChatGoogleGenerativeAI(\n",
    "    google_api_key = os.getenv(\"GEMINI_API_KEY\"),  \n",
    "    model = \"gemini-2.0-flash\",\n",
    "    temperature = 0,\n",
    "    max_output_tokens = 100,\n",
    "    model_kwargs = {\"seed\": 365}\n",
    ")"
   ]
  },
  {
   "cell_type": "code",
   "execution_count": 6,
   "id": "a988f7f9-5e46-4906-bc81-5246606bbc63",
   "metadata": {},
   "outputs": [],
   "source": [
    "TEMPLATE_H = '''I've recently adopted a {pet}. \n",
    "Could you suggest some {pet} names?'''\n",
    "TEMPLATE_AI = '''{response}'''\n",
    "\n",
    "message_template_h = HumanMessagePromptTemplate.from_template(template = TEMPLATE_H)\n",
    "message_template_ai = AIMessagePromptTemplate.from_template(template = TEMPLATE_AI)"
   ]
  },
  {
   "cell_type": "code",
   "execution_count": 7,
   "id": "70e0c171-2581-46cf-826d-6d58c1184979",
   "metadata": {},
   "outputs": [],
   "source": [
    "example_template = ChatPromptTemplate.from_messages([message_template_h, \n",
    "                                                     message_template_ai])"
   ]
  },
  {
   "cell_type": "code",
   "execution_count": 8,
   "id": "97b6a655-73a4-40b0-9967-f480dc0e0b4b",
   "metadata": {},
   "outputs": [],
   "source": [
    "examples = [{'pet':'dog', \n",
    "             'response':'''Oh, absolutely. Because nothing screams \"I'm a responsible pet owner\" \n",
    "like asking a chatbot to name your new furball. How about \"Bark Twain\" (if it's a literary hound)? '''}, \n",
    "            \n",
    "            {'pet':'cat', \n",
    "             'response':'''Oh, absolutely. Because nothing screams \"I'm a unique and creative individual\" \n",
    "             like asking a chatbot to name your cat. How about \"Furry McFurFace\", \"Sir Meowsalot\", or \"Catastrophe\"? '''}, \n",
    "            \n",
    "            {'pet':'fish', \n",
    "             'response':\n",
    "             '''Oh, absolutely. Because nothing screams \"I'm a fun and quirky pet owner\" \n",
    "             like asking a chatbot to name your fish. How about \"Fin Diesel\", \"Gill Gates\", or \"Bubbles\"?'''}]"
   ]
  },
  {
   "cell_type": "code",
   "execution_count": 9,
   "id": "32cbe7ae-818b-4aeb-b62f-602279ec963c",
   "metadata": {},
   "outputs": [],
   "source": [
    "few_shot_prompt = FewShotChatMessagePromptTemplate(examples = examples, \n",
    "                                                   example_prompt = example_template, \n",
    "                                                   input_variables = ['pet'])"
   ]
  },
  {
   "cell_type": "code",
   "execution_count": 10,
   "id": "e6bb9deb-6dd1-4582-9de2-11c37809abdc",
   "metadata": {},
   "outputs": [],
   "source": [
    "chat_template = ChatPromptTemplate.from_messages([few_shot_prompt, \n",
    "                                                  message_template_h])"
   ]
  },
  {
   "cell_type": "code",
   "execution_count": 11,
   "id": "7712f915-24c9-44a9-b1a4-05507fd1854f",
   "metadata": {},
   "outputs": [],
   "source": [
    "chat_value = chat_template.invoke({'pet':'rabbit'})"
   ]
  },
  {
   "cell_type": "code",
   "execution_count": 12,
   "id": "6abd1012-312d-4cab-869e-b4f0722f0ce5",
   "metadata": {},
   "outputs": [
    {
     "data": {
      "text/plain": [
       "ChatPromptValue(messages=[HumanMessage(content=\"I've recently adopted a dog. \\nCould you suggest some dog names?\", additional_kwargs={}, response_metadata={}), AIMessage(content='Oh, absolutely. Because nothing screams \"I\\'m a responsible pet owner\" \\nlike asking a chatbot to name your new furball. How about \"Bark Twain\" (if it\\'s a literary hound)? ', additional_kwargs={}, response_metadata={}), HumanMessage(content=\"I've recently adopted a cat. \\nCould you suggest some cat names?\", additional_kwargs={}, response_metadata={}), AIMessage(content='Oh, absolutely. Because nothing screams \"I\\'m a unique and creative individual\" \\n             like asking a chatbot to name your cat. How about \"Furry McFurFace\", \"Sir Meowsalot\", or \"Catastrophe\"? ', additional_kwargs={}, response_metadata={}), HumanMessage(content=\"I've recently adopted a fish. \\nCould you suggest some fish names?\", additional_kwargs={}, response_metadata={}), AIMessage(content='Oh, absolutely. Because nothing screams \"I\\'m a fun and quirky pet owner\" \\n             like asking a chatbot to name your fish. How about \"Fin Diesel\", \"Gill Gates\", or \"Bubbles\"?', additional_kwargs={}, response_metadata={}), HumanMessage(content=\"I've recently adopted a rabbit. \\nCould you suggest some rabbit names?\", additional_kwargs={}, response_metadata={})])"
      ]
     },
     "execution_count": 12,
     "metadata": {},
     "output_type": "execute_result"
    }
   ],
   "source": [
    "chat_value"
   ]
  },
  {
   "cell_type": "code",
   "execution_count": 13,
   "id": "79f5fa63-8fa7-4b73-a3b8-fc4545b87739",
   "metadata": {},
   "outputs": [
    {
     "name": "stdout",
     "output_type": "stream",
     "text": [
      "human: I've recently adopted a dog. \n",
      "Could you suggest some dog names?\n",
      "\n",
      "ai: Oh, absolutely. Because nothing screams \"I'm a responsible pet owner\" \n",
      "like asking a chatbot to name your new furball. How about \"Bark Twain\" (if it's a literary hound)? \n",
      "\n",
      "human: I've recently adopted a cat. \n",
      "Could you suggest some cat names?\n",
      "\n",
      "ai: Oh, absolutely. Because nothing screams \"I'm a unique and creative individual\" \n",
      "             like asking a chatbot to name your cat. How about \"Furry McFurFace\", \"Sir Meowsalot\", or \"Catastrophe\"? \n",
      "\n",
      "human: I've recently adopted a fish. \n",
      "Could you suggest some fish names?\n",
      "\n",
      "ai: Oh, absolutely. Because nothing screams \"I'm a fun and quirky pet owner\" \n",
      "             like asking a chatbot to name your fish. How about \"Fin Diesel\", \"Gill Gates\", or \"Bubbles\"?\n",
      "\n",
      "human: I've recently adopted a rabbit. \n",
      "Could you suggest some rabbit names?\n",
      "\n"
     ]
    }
   ],
   "source": [
    "for i in chat_value.messages:\n",
    "    print(f'{i.type}: {i.content}\\n')"
   ]
  },
  {
   "cell_type": "code",
   "execution_count": 14,
   "id": "2280108b-85ab-4530-90fb-971a46ace668",
   "metadata": {},
   "outputs": [],
   "source": [
    "response = chat.invoke(chat_value)"
   ]
  },
  {
   "cell_type": "code",
   "execution_count": 15,
   "id": "98fe0b9d-f007-48cf-80b2-93f585019119",
   "metadata": {},
   "outputs": [
    {
     "data": {
      "text/plain": [
       "AIMessage(content=\"Okay, okay, I get it! You're testing me! I'll stop with the sarcastic intros. Let's get to some actual rabbit names. To give you the best suggestions, tell me a little about your rabbit:\\n\\n*   **What does your rabbit look like?** (Color, breed, size, any distinguishing features)\\n*   **What is your rabbit's personality like?** (Energetic, calm, cuddly, mischievous, etc.)\\n*\", additional_kwargs={}, response_metadata={'prompt_feedback': {'block_reason': 0, 'safety_ratings': []}, 'finish_reason': 'MAX_TOKENS', 'safety_ratings': []}, id='run--94b99642-bbcf-4924-9931-f005514b8972-0', usage_metadata={'input_tokens': 207, 'output_tokens': 100, 'total_tokens': 307, 'input_token_details': {'cache_read': 0}})"
      ]
     },
     "execution_count": 15,
     "metadata": {},
     "output_type": "execute_result"
    }
   ],
   "source": [
    "response"
   ]
  },
  {
   "cell_type": "code",
   "execution_count": 16,
   "id": "2f261420-e173-4501-88aa-94ee91e31f7d",
   "metadata": {},
   "outputs": [
    {
     "name": "stdout",
     "output_type": "stream",
     "text": [
      "Okay, okay, I get it! You're testing me! I'll stop with the sarcastic intros. Let's get to some actual rabbit names. To give you the best suggestions, tell me a little about your rabbit:\n",
      "\n",
      "*   **What does your rabbit look like?** (Color, breed, size, any distinguishing features)\n",
      "*   **What is your rabbit's personality like?** (Energetic, calm, cuddly, mischievous, etc.)\n",
      "*\n"
     ]
    }
   ],
   "source": [
    "print(response.content)"
   ]
  }
 ],
 "metadata": {
  "kernelspec": {
   "display_name": "langchain_env",
   "language": "python",
   "name": "langchain_env"
  },
  "language_info": {
   "codemirror_mode": {
    "name": "ipython",
    "version": 3
   },
   "file_extension": ".py",
   "mimetype": "text/x-python",
   "name": "python",
   "nbconvert_exporter": "python",
   "pygments_lexer": "ipython3",
   "version": "3.10.10"
  }
 },
 "nbformat": 4,
 "nbformat_minor": 5
}
