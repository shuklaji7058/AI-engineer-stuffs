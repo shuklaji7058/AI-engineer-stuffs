{
 "cells": [
  {
   "cell_type": "markdown",
   "id": "8c11a732-1e8d-4d5f-b01b-85387d329eb0",
   "metadata": {},
   "source": [
    "Piping Chains and the RunnablePassthrough Class"
   ]
  },
  {
   "cell_type": "code",
   "execution_count": 1,
   "id": "5d4cb33b-412c-4140-9260-f6302b01ecf9",
   "metadata": {},
   "outputs": [],
   "source": [
    "%load_ext dotenv\n",
    "%dotenv"
   ]
  },
  {
   "cell_type": "code",
   "execution_count": 2,
   "id": "5e647388-e106-4726-9b35-09567d680c85",
   "metadata": {},
   "outputs": [],
   "source": [
    "from langchain_core.prompts import ChatPromptTemplate\n",
    "from langchain_google_genai import ChatGoogleGenerativeAI\n",
    "from langchain_core.output_parsers import StrOutputParser\n",
    "from langchain_core.runnables import RunnablePassthrough"
   ]
  },
  {
   "cell_type": "code",
   "execution_count": 3,
   "id": "19e34695-e6f4-4274-8a7f-d767b70bb8a4",
   "metadata": {},
   "outputs": [],
   "source": [
    "import os"
   ]
  },
  {
   "cell_type": "code",
   "execution_count": 4,
   "id": "c16d6cae-f62b-4f64-8f8d-6e4d65b5975f",
   "metadata": {},
   "outputs": [
    {
     "data": {
      "text/plain": [
       "[1, 2, 3]"
      ]
     },
     "execution_count": 4,
     "metadata": {},
     "output_type": "execute_result"
    }
   ],
   "source": [
    "RunnablePassthrough().invoke([1, 2, 3])"
   ]
  },
  {
   "cell_type": "code",
   "execution_count": 5,
   "id": "83a86a90-a372-445f-8087-e6312e2cea59",
   "metadata": {},
   "outputs": [],
   "source": [
    "chat_template_tools = ChatPromptTemplate.from_template('''\n",
    "What are the five most important tools a {job title} needs?\n",
    "Answer only by listing the tools.\n",
    "''')\n",
    "\n",
    "chat_template_strategy = ChatPromptTemplate.from_template('''\n",
    "Considering the tools provided, develop a strategy for effectively learning and mastering them:\n",
    "{tools}\n",
    "''')"
   ]
  },
  {
   "cell_type": "code",
   "execution_count": 6,
   "id": "79353de8-9032-484f-882a-859345e74ad2",
   "metadata": {},
   "outputs": [
    {
     "data": {
      "text/plain": [
       "ChatPromptTemplate(input_variables=['job title'], input_types={}, partial_variables={}, messages=[HumanMessagePromptTemplate(prompt=PromptTemplate(input_variables=['job title'], input_types={}, partial_variables={}, template='\\nWhat are the five most important tools a {job title} needs?\\nAnswer only by listing the tools.\\n'), additional_kwargs={})])"
      ]
     },
     "execution_count": 6,
     "metadata": {},
     "output_type": "execute_result"
    }
   ],
   "source": [
    "chat_template_tools"
   ]
  },
  {
   "cell_type": "code",
   "execution_count": 7,
   "id": "9c316198-6c98-495e-a418-be7ff289be74",
   "metadata": {},
   "outputs": [],
   "source": [
    "chat = ChatGoogleGenerativeAI(\n",
    "    google_api_key = os.getenv(\"GEMINI_API_KEY\"),  \n",
    "    model = \"gemini-2.0-flash\",\n",
    "    temperature = 0,\n",
    "    max_output_tokens = 100,\n",
    "    model_kwargs = {\"seed\": 365}\n",
    ")"
   ]
  },
  {
   "cell_type": "code",
   "execution_count": 8,
   "id": "5e435fdc-3e8d-4453-9f84-c86616bc11d3",
   "metadata": {},
   "outputs": [],
   "source": [
    "string_parser = StrOutputParser()"
   ]
  },
  {
   "cell_type": "code",
   "execution_count": 12,
   "id": "3fb456fa-f85d-4144-9ff8-f90739c37666",
   "metadata": {},
   "outputs": [],
   "source": [
    "chain_tools = (chat_template_tools | chat | string_parser | \n",
    "{'tools':RunnablePassthrough()})\n",
    "chain_strategy = chat_template_strategy | chat | string_parser\n",
    "            "
   ]
  },
  {
   "cell_type": "code",
   "execution_count": 17,
   "id": "ef164a45-5d92-4419-b8bc-3348d9515010",
   "metadata": {},
   "outputs": [
    {
     "name": "stdout",
     "output_type": "stream",
     "text": [
      "Okay, here's a structured strategy for learning and mastering Python, Cloud Computing Platforms, SQL, R, and Data Visualization Tools, focusing on a practical, project-based approach:\n",
      "\n",
      "**Overarching Principles:**\n",
      "\n",
      "*   **Project-Based Learning:**  The core of this strategy is to learn by doing.  Each tool will be learned in the context of a specific project.\n",
      "*   **Iterative Learning:**  Don't aim for perfection upfront.  Start with the basics\n"
     ]
    }
   ],
   "source": [
    "print(chain_strategy.invoke({'tools':'''\n",
    "1. Python\n",
    "2. Cloud Computing Platforms (e.g., AWS, Azure, GCP)\n",
    "3. SQL\n",
    "4. R \n",
    "5. Data Visualization Tools (e.g., Tableau, Power BI)\n",
    "'''}))"
   ]
  },
  {
   "cell_type": "code",
   "execution_count": 18,
   "id": "84bb6ba8-7702-42f7-a3b4-4c7960c9c959",
   "metadata": {},
   "outputs": [
    {
     "name": "stdout",
     "output_type": "stream",
     "text": [
      "{'tools': '1.  Python\\n2.  SQL\\n3.  R\\n4.  Cloud Computing (e.g., AWS, Azure, GCP)\\n5.  Machine Learning Frameworks (e.g., scikit-learn, TensorFlow, PyTorch)'}\n"
     ]
    }
   ],
   "source": [
    "print(chain_tools.invoke({'job title':'data scientist'}))"
   ]
  },
  {
   "cell_type": "code",
   "execution_count": 19,
   "id": "12d67cb5-827c-42ec-8886-2ecc7f222cfd",
   "metadata": {},
   "outputs": [],
   "source": [
    "chain_combined = chain_tools | chain_strategy"
   ]
  },
  {
   "cell_type": "code",
   "execution_count": 20,
   "id": "9efdb027-4fb7-4277-a617-f112ac21fec6",
   "metadata": {},
   "outputs": [
    {
     "name": "stdout",
     "output_type": "stream",
     "text": [
      "Okay, here's a comprehensive strategy for effectively learning and mastering the listed tools, focusing on a practical, hands-on approach:\n",
      "\n",
      "**Overarching Principles:**\n",
      "\n",
      "*   **Focus on Practical Application:**  Don't just learn syntax; learn how to *use* the tools to solve real-world problems.\n",
      "*   **Project-Based Learning:**  The core of your learning should revolve around projects that require you to integrate multiple tools.\n",
      "*   **Iterative Learning:**\n"
     ]
    }
   ],
   "source": [
    "print(chain_combined.invoke({'job title':'data scientist'}))"
   ]
  },
  {
   "cell_type": "code",
   "execution_count": 21,
   "id": "0b98643c-3bf0-4766-9340-502486186371",
   "metadata": {},
   "outputs": [],
   "source": [
    "chain_long = (chat_template_tools | chat | string_parser | {'tools':RunnablePassthrough()} | \n",
    "              chat_template_strategy | chat | string_parser)"
   ]
  },
  {
   "cell_type": "code",
   "execution_count": null,
   "id": "fd623027-8d78-4b75-a37a-767ef7e97ee9",
   "metadata": {},
   "outputs": [],
   "source": []
  }
 ],
 "metadata": {
  "kernelspec": {
   "display_name": "langchain_env",
   "language": "python",
   "name": "langchain_env"
  },
  "language_info": {
   "codemirror_mode": {
    "name": "ipython",
    "version": 3
   },
   "file_extension": ".py",
   "mimetype": "text/x-python",
   "name": "python",
   "nbconvert_exporter": "python",
   "pygments_lexer": "ipython3",
   "version": "3.10.10"
  }
 },
 "nbformat": 4,
 "nbformat_minor": 5
}
