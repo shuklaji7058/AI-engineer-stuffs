{
 "cells": [
  {
   "cell_type": "code",
   "execution_count": 23,
   "id": "52a98e1a-ed19-4c79-8fc1-67b26fa5b3d4",
   "metadata": {},
   "outputs": [],
   "source": [
    "%reload_ext dotenv\n",
    "%dotenv"
   ]
  },
  {
   "cell_type": "code",
   "execution_count": 24,
   "id": "d917a3ad-93e2-465a-838c-371e48309268",
   "metadata": {},
   "outputs": [],
   "source": [
    "from langchain_google_genai import ChatGoogleGenerativeAI"
   ]
  },
  {
   "cell_type": "code",
   "execution_count": 25,
   "id": "d2ed260e-e036-49d2-a0d0-69d24202ed0d",
   "metadata": {},
   "outputs": [],
   "source": [
    "from langchain_core.prompts import ChatPromptTemplate"
   ]
  },
  {
   "cell_type": "code",
   "execution_count": 26,
   "id": "fc04756f-189f-4351-94ab-f8a033d0ea32",
   "metadata": {},
   "outputs": [],
   "source": [
    "import os"
   ]
  },
  {
   "cell_type": "code",
   "execution_count": 27,
   "id": "83c27db9-26f9-408e-8718-8e77830539d1",
   "metadata": {},
   "outputs": [],
   "source": [
    "chat_template = ChatPromptTemplate.from_messages([\n",
    "    ('human', \n",
    "     \"I've recently adopted a {pet} which is a {breed}. Could you suggest several training tips?\")])"
   ]
  },
  {
   "cell_type": "code",
   "execution_count": 28,
   "id": "d1dc5b97-1e4a-48dd-8f7d-38621b6877f3",
   "metadata": {},
   "outputs": [],
   "source": [
    "chat = ChatGoogleGenerativeAI(\n",
    "    google_api_key = os.getenv(\"GEMINI_API_KEY\"),  \n",
    "    model = \"gemini-2.0-flash\",\n",
    "    temperature = 0,\n",
    "    max_output_tokens = 100,\n",
    "    model_kwargs = {\"seed\": 365}\n",
    ")"
   ]
  },
  {
   "cell_type": "code",
   "execution_count": 29,
   "id": "fa19639c-fe5c-4627-84c1-1fe9d49639ee",
   "metadata": {},
   "outputs": [],
   "source": [
    "chain = chat_template | chat"
   ]
  },
  {
   "cell_type": "code",
   "execution_count": 30,
   "id": "8c38744f-eea3-444a-821c-294f83c9fc9a",
   "metadata": {},
   "outputs": [
    {
     "data": {
      "text/plain": [
       "AIMessage(content='Congratulations on adopting a Shepherd! They are intelligent and eager to please, making them generally very trainable. Here are some training tips tailored for Shepherds:\\n\\n**1. Understanding Shepherd Traits:**\\n\\n*   **High Intelligence:** They learn quickly, but this also means they can pick up bad habits just as fast. Consistency is key.\\n*   **Herding Instincts:** This can manifest as nipping at heels, chasing, or circling. Training should focus on redirecting these instincts into positive', additional_kwargs={}, response_metadata={'prompt_feedback': {'block_reason': 0, 'safety_ratings': []}, 'finish_reason': 'MAX_TOKENS', 'safety_ratings': []}, id='run--004a9c25-38d3-4fa8-be68-f6de0b32c285-0', usage_metadata={'input_tokens': 19, 'output_tokens': 101, 'total_tokens': 120, 'input_token_details': {'cache_read': 0}})"
      ]
     },
     "execution_count": 30,
     "metadata": {},
     "output_type": "execute_result"
    }
   ],
   "source": [
    "chain.invoke({'pet':'dog', 'breed':'shepherd'})"
   ]
  },
  {
   "cell_type": "code",
   "execution_count": 31,
   "id": "aa0d5be5-802a-441f-89f3-180db32010c7",
   "metadata": {},
   "outputs": [
    {
     "name": "stdout",
     "output_type": "stream",
     "text": [
      "CPU times: total: 31.2 ms\n",
      "Wall time: 2.51 s\n"
     ]
    },
    {
     "data": {
      "text/plain": [
       "[AIMessage(content='Congratulations on adopting a Shepherd! They are intelligent and eager to please, making them generally very trainable. Here are some training tips tailored for Shepherds:\\n\\n**1. Understanding Shepherd Traits:**\\n\\n*   **High Intelligence:** They learn quickly, but this also means they can pick up bad habits just as fast. Consistency is key.\\n*   **Herding Instincts:** This can manifest as nipping at heels, chasing, or circling. Training should focus on redirecting these instincts into positive', additional_kwargs={}, response_metadata={'prompt_feedback': {'block_reason': 0, 'safety_ratings': []}, 'finish_reason': 'MAX_TOKENS', 'safety_ratings': []}, id='run--5b6a2e6f-73e4-4be0-a100-c9e46fed41ce-0', usage_metadata={'input_tokens': 19, 'output_tokens': 101, 'total_tokens': 120, 'input_token_details': {'cache_read': 0}}),\n",
       " AIMessage(content=\"Congratulations on adopting a Night Fury! They are incredibly intelligent, loyal, and powerful dragons, but they also require a specific approach to training. Here are some tips to help you build a strong bond and train your Night Fury effectively:\\n\\n**1. Building Trust and Connection (The Most Important Step):**\\n\\n*   **Patience is Key:** Night Furies are naturally cautious and wary of strangers. Don't rush the process. Let your dragon come to you.\\n*   **Positive\", additional_kwargs={}, response_metadata={'prompt_feedback': {'block_reason': 0, 'safety_ratings': []}, 'finish_reason': 'MAX_TOKENS', 'safety_ratings': []}, id='run--14c0cace-d85f-4824-b07d-7df99b2e0b45-0', usage_metadata={'input_tokens': 20, 'output_tokens': 99, 'total_tokens': 119, 'input_token_details': {'cache_read': 0}})]"
      ]
     },
     "execution_count": 31,
     "metadata": {},
     "output_type": "execute_result"
    }
   ],
   "source": [
    "%%time\n",
    "chain.batch([{'pet':'dog', 'breed':'shepherd'}, \n",
    "             {'pet':'dragon', 'breed':'night fury'}])"
   ]
  },
  {
   "cell_type": "code",
   "execution_count": 32,
   "id": "a567994e-6860-4fe7-8ec8-cc0752351908",
   "metadata": {},
   "outputs": [
    {
     "name": "stdout",
     "output_type": "stream",
     "text": [
      "CPU times: total: 46.9 ms\n",
      "Wall time: 1.37 s\n"
     ]
    },
    {
     "data": {
      "text/plain": [
       "AIMessage(content=\"Congratulations on adopting a Shepherd! They are intelligent and eager to please, making them generally very trainable. Here are some training tips tailored for Shepherds:\\n\\n**1. Understanding Your Shepherd's Breed Traits:**\\n\\n*   **High Energy:** Shepherds need a lot of exercise and mental stimulation.  Boredom can lead to destructive behaviors like excessive barking, chewing, or digging.\\n*   **Intelligence & Trainability:** They learn quickly and enjoy having a job to do.  This\", additional_kwargs={}, response_metadata={'prompt_feedback': {'block_reason': 0, 'safety_ratings': []}, 'finish_reason': 'MAX_TOKENS', 'safety_ratings': []}, id='run--4e7560c2-d4b1-4912-8866-1ceed0e4f84a-0', usage_metadata={'input_tokens': 19, 'output_tokens': 98, 'total_tokens': 117, 'input_token_details': {'cache_read': 0}})"
      ]
     },
     "execution_count": 32,
     "metadata": {},
     "output_type": "execute_result"
    }
   ],
   "source": [
    "%%time\n",
    "chain.invoke({'pet':'dog', 'breed':'shepherd'})"
   ]
  },
  {
   "cell_type": "code",
   "execution_count": 33,
   "id": "8f715f56-fb58-4237-85e7-5d3dfd357920",
   "metadata": {},
   "outputs": [
    {
     "name": "stdout",
     "output_type": "stream",
     "text": [
      "CPU times: total: 31.2 ms\n",
      "Wall time: 1.31 s\n"
     ]
    },
    {
     "data": {
      "text/plain": [
       "AIMessage(content=\"Congratulations on adopting a Night Fury! They are incredibly intelligent, loyal, and powerful dragons, but they also require a specific approach to training. Here are some tips to help you build a strong bond and train your Night Fury effectively:\\n\\n**1. Building Trust and Connection (The Most Important Step):**\\n\\n*   **Patience is Key:** Night Furies are naturally cautious and wary of strangers. Don't rush the process. Let your dragon come to you.\\n*   **Positive\", additional_kwargs={}, response_metadata={'prompt_feedback': {'block_reason': 0, 'safety_ratings': []}, 'finish_reason': 'MAX_TOKENS', 'safety_ratings': []}, id='run--5f6c12e8-e3a6-4089-8f4c-9b850a72d30f-0', usage_metadata={'input_tokens': 20, 'output_tokens': 99, 'total_tokens': 119, 'input_token_details': {'cache_read': 0}})"
      ]
     },
     "execution_count": 33,
     "metadata": {},
     "output_type": "execute_result"
    }
   ],
   "source": [
    "%%time\n",
    "chain.invoke({'pet':'dragon', 'breed':'night fury'})"
   ]
  },
  {
   "cell_type": "code",
   "execution_count": 34,
   "id": "610038a9-5fa3-46d7-a344-4aef9e852274",
   "metadata": {},
   "outputs": [],
   "source": [
    "response = chain.stream({'pet':'dragon', 'breed':'night fury'})"
   ]
  },
  {
   "cell_type": "code",
   "execution_count": 35,
   "id": "48d6179d-a751-43bc-8d3e-a9050467a057",
   "metadata": {},
   "outputs": [
    {
     "data": {
      "text/plain": [
       "AIMessageChunk(content='Congratulations', additional_kwargs={}, response_metadata={'safety_ratings': []}, id='run--fc313ad1-058c-407d-a460-c244c858fe03', usage_metadata={'input_tokens': 21, 'output_tokens': 0, 'total_tokens': 21, 'input_token_details': {'cache_read': 0}})"
      ]
     },
     "execution_count": 35,
     "metadata": {},
     "output_type": "execute_result"
    }
   ],
   "source": [
    "next(response)"
   ]
  },
  {
   "cell_type": "code",
   "execution_count": 36,
   "id": "51a49d60-2132-4b74-87cd-d1bfadb6cb7f",
   "metadata": {},
   "outputs": [
    {
     "name": "stdout",
     "output_type": "stream",
     "text": [
      " on adopting a Night Fury! They are incredibly intelligent, loyal, and powerful dragons, but they also require a specific approach to training. Here are some tips to help you build a strong bond and train your Night Fury effectively:\n",
      "\n",
      "**1. Building Trust and Connection (The Most Important Step):**\n",
      "\n",
      "*   **Patience is Key:** Night Furies are naturally cautious and wary of strangers. Don't rush the process. Let your dragon come to you.\n",
      "*   **Positive"
     ]
    }
   ],
   "source": [
    "for i in response:\n",
    "    print(i.content, end = '')"
   ]
  },
  {
   "cell_type": "code",
   "execution_count": null,
   "id": "6ae262c7-579e-4c94-a10a-8506fc545215",
   "metadata": {},
   "outputs": [],
   "source": []
  }
 ],
 "metadata": {
  "kernelspec": {
   "display_name": "langchain_env",
   "language": "python",
   "name": "langchain_env"
  },
  "language_info": {
   "codemirror_mode": {
    "name": "ipython",
    "version": 3
   },
   "file_extension": ".py",
   "mimetype": "text/x-python",
   "name": "python",
   "nbconvert_exporter": "python",
   "pygments_lexer": "ipython3",
   "version": "3.10.10"
  }
 },
 "nbformat": 4,
 "nbformat_minor": 5
}
