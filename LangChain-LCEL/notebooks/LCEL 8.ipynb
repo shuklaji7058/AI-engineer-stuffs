{
 "cells": [
  {
   "cell_type": "code",
   "execution_count": 16,
   "id": "6c378e63-5dfa-4ff1-a0e5-5fa60ced0ac5",
   "metadata": {},
   "outputs": [],
   "source": [
    "%reload_ext dotenv\n",
    "%dotenv"
   ]
  },
  {
   "cell_type": "code",
   "execution_count": 17,
   "id": "9716b58d-9b24-4cf8-8b15-8fa4335614fa",
   "metadata": {},
   "outputs": [],
   "source": [
    "from langchain_core.prompts import ChatPromptTemplate\n",
    "from langchain_google_genai import ChatGoogleGenerativeAI\n",
    "from langchain_core.output_parsers import StrOutputParser\n",
    "from langchain_core.runnables import RunnableParallel"
   ]
  },
  {
   "cell_type": "code",
   "execution_count": 18,
   "id": "cc52eacd-2861-4615-a197-290ef0ba6541",
   "metadata": {},
   "outputs": [],
   "source": [
    "import os"
   ]
  },
  {
   "cell_type": "code",
   "execution_count": 19,
   "id": "3d116bcd-a92a-4623-a7b7-97708fa0dcdf",
   "metadata": {},
   "outputs": [],
   "source": [
    "chat_template_books = ChatPromptTemplate.from_template(\n",
    "    '''\n",
    "    Suggest three of the best intermediate-level {programming language} books. \n",
    "    Answer only by listing the books.\n",
    "    '''\n",
    ")\n",
    "\n",
    "chat_template_projects = ChatPromptTemplate.from_template(\n",
    "    '''\n",
    "    Suggest three interesting {programming language} projects suitable for intermediate-level programmers. \n",
    "    Answer only by listing the projects.\n",
    "    '''\n",
    ")\n",
    "\n",
    "chat_template_time = ChatPromptTemplate.from_template(\n",
    "     '''\n",
    "     I'm an intermediate level programmer.\n",
    "     \n",
    "     Consider the following literature:\n",
    "     {books}\n",
    "     \n",
    "     Also, consider the following projects:\n",
    "     {projects}\n",
    "     \n",
    "     Roughly how much time would it take me to complete the literature and the projects?\n",
    "     \n",
    "     '''\n",
    ")"
   ]
  },
  {
   "cell_type": "code",
   "execution_count": 20,
   "id": "992b6a2a-cccb-4c76-8a81-170289dce39e",
   "metadata": {},
   "outputs": [],
   "source": [
    "chat = ChatGoogleGenerativeAI(\n",
    "    google_api_key = os.getenv(\"GEMINI_API_KEY\"),  \n",
    "    model = \"gemini-2.0-flash\",\n",
    "    temperature = 0,\n",
    "    max_output_tokens = 500,\n",
    "    model_kwargs = {\"seed\": 365}\n",
    ")"
   ]
  },
  {
   "cell_type": "code",
   "execution_count": 21,
   "id": "20b710bd-6d88-4b77-9965-ca3f1f7c1b7e",
   "metadata": {},
   "outputs": [],
   "source": [
    "string_parser = StrOutputParser()"
   ]
  },
  {
   "cell_type": "code",
   "execution_count": 22,
   "id": "8a7d9969-2123-48bd-b866-9f82c464bddb",
   "metadata": {},
   "outputs": [],
   "source": [
    "chain_books = chat_template_books | chat | string_parser\n",
    "chain_projects = chat_template_projects | chat | string_parser"
   ]
  },
  {
   "cell_type": "code",
   "execution_count": 23,
   "id": "3b9064f9-51e5-4804-83b9-6c353d4c1bd0",
   "metadata": {},
   "outputs": [],
   "source": [
    "chain_parallel = RunnableParallel({'books': chain_books,\n",
    "'projects':chain_projects})"
   ]
  },
  {
   "cell_type": "code",
   "execution_count": 25,
   "id": "afe77e8f-6d66-44e3-9512-5186630bf071",
   "metadata": {},
   "outputs": [
    {
     "data": {
      "text/plain": [
       "{'books': '*   Fluent Python\\n*   Effective Python: 90 Specific Ways to Write Better Python\\n*   Python Cookbook',\n",
       " 'projects': '*   **Web Scraper with Data Analysis and Visualization**\\n*   **Personal Finance Tracker with GUI**\\n*   **Simple Game Engine with Custom Game**'}"
      ]
     },
     "execution_count": 25,
     "metadata": {},
     "output_type": "execute_result"
    }
   ],
   "source": [
    "chain_parallel.invoke({'programming language':'Python'})"
   ]
  },
  {
   "cell_type": "code",
   "execution_count": 26,
   "id": "89bf3174-aae6-4fbc-b527-caa0756d4354",
   "metadata": {},
   "outputs": [],
   "source": [
    "chain_time1 = (RunnableParallel({'books':chain_books,\n",
    "                                'projects':chain_projects})\n",
    "              | chat_template_time\n",
    "              | chat\n",
    "              | string_parser)"
   ]
  },
  {
   "cell_type": "code",
   "execution_count": 27,
   "id": "e81eefe4-5b20-43e2-a715-c3915f1ab8c2",
   "metadata": {},
   "outputs": [],
   "source": [
    "chain_time2 = ({'books': chain_books,\n",
    "               'projects':chain_projects}\n",
    "              | chat_template_time\n",
    "              | chat\n",
    "              | string_parser\n",
    "              )"
   ]
  },
  {
   "cell_type": "code",
   "execution_count": 28,
   "id": "1ecd8d61-9863-4176-a8dd-2ecd8de9abea",
   "metadata": {},
   "outputs": [
    {
     "name": "stdout",
     "output_type": "stream",
     "text": [
      "Okay, let's break down the estimated time commitment for each book and project, considering you're an intermediate programmer.  Keep in mind these are *very rough* estimates, and your actual time will vary based on your learning style, focus, and prior experience with specific libraries or concepts.\n",
      "\n",
      "**Literature Time Estimates:**\n",
      "\n",
      "*   **Fluent Python (Luciano Ramalho):** This is a deep dive into Python's core features and idioms. It's not a quick read.  It's best approached by reading a section, experimenting with the code, and then moving on.\n",
      "\n",
      "    *   **Estimated Time:** 80-120 hours.  This assumes you're actively coding along with the examples and doing the exercises.  You might spend 2-4 hours per chapter, depending on the complexity.  It's a book you'll likely revisit over time.\n",
      "\n",
      "*   **Effective Python: 90 Specific Ways to Write Better Python (Brett Slatkin):** This book is more digestible. Each \"way\" is a self-contained tip. You can read it in chunks.\n",
      "\n",
      "    *   **Estimated Time:** 40-60 hours.  Again, this assumes you're trying out the examples and thinking about how to apply the advice to your own code.  You could probably read a few \"ways\" per hour, but the real value comes from applying them.\n",
      "\n",
      "*   **Python Cookbook (David Beazley and Brian K. Jones):** This is a reference book. You won't read it cover-to-cover. You'll consult it when you need to solve a specific problem.\n",
      "\n",
      "    *   **Estimated Time:**  Difficult to estimate.  You'll spend time with it *as needed* for your projects.  Let's say 20-40 hours *actively using it* while working on the projects.  You'll likely browse it occasionally too.\n",
      "\n",
      "**Project Time Estimates:**\n",
      "\n",
      "*   **Web Scraper with Data Analysis and Visualization:** This project involves several components:\n",
      "\n",
      "    *   **Web Scraping (Beautiful Soup, Scrapy):** Learning the basics of web scraping and handling different website structures.\n",
      "    *   **Data Cleaning and Transformation (Pandas):** Cleaning the scraped data and preparing it for analysis.\n",
      "    *   **Data Analysis (Pandas, NumPy):**\n"
     ]
    }
   ],
   "source": [
    "print(chain_time2.invoke({'programming language':'Python'}))"
   ]
  },
  {
   "cell_type": "code",
   "execution_count": 29,
   "id": "42853e88-f4b1-4c13-bd7a-5d6c051c7f75",
   "metadata": {},
   "outputs": [
    {
     "name": "stdout",
     "output_type": "stream",
     "text": [
      "                   +-------------------------------+                     \n",
      "                   | Parallel<books,projects>Input |                     \n",
      "                   +-------------------------------+                     \n",
      "                       ****                  ****                        \n",
      "                   ****                          ****                    \n",
      "                 **                                  **                  \n",
      "  +--------------------+                       +--------------------+    \n",
      "  | ChatPromptTemplate |                       | ChatPromptTemplate |    \n",
      "  +--------------------+                       +--------------------+    \n",
      "             *                                            *              \n",
      "             *                                            *              \n",
      "             *                                            *              \n",
      "+------------------------+                   +------------------------+  \n",
      "| ChatGoogleGenerativeAI |                   | ChatGoogleGenerativeAI |  \n",
      "+------------------------+                   +------------------------+  \n",
      "             *                                            *              \n",
      "             *                                            *              \n",
      "             *                                            *              \n",
      "    +-----------------+                         +-----------------+      \n",
      "    | StrOutputParser |                         | StrOutputParser |      \n",
      "    +-----------------+                         +-----------------+      \n",
      "                       ****                  ****                        \n",
      "                           ****          ****                            \n",
      "                               **      **                                \n",
      "                  +--------------------------------+                     \n",
      "                  | Parallel<books,projects>Output |                     \n",
      "                  +--------------------------------+                     \n",
      "                                    *                                    \n",
      "                                    *                                    \n",
      "                                    *                                    \n",
      "                        +--------------------+                           \n",
      "                        | ChatPromptTemplate |                           \n",
      "                        +--------------------+                           \n",
      "                                    *                                    \n",
      "                                    *                                    \n",
      "                                    *                                    \n",
      "                      +------------------------+                         \n",
      "                      | ChatGoogleGenerativeAI |                         \n",
      "                      +------------------------+                         \n",
      "                                    *                                    \n",
      "                                    *                                    \n",
      "                                    *                                    \n",
      "                          +-----------------+                            \n",
      "                          | StrOutputParser |                            \n",
      "                          +-----------------+                            \n",
      "                                    *                                    \n",
      "                                    *                                    \n",
      "                                    *                                    \n",
      "                       +-----------------------+                         \n",
      "                       | StrOutputParserOutput |                         \n",
      "                       +-----------------------+                         \n"
     ]
    }
   ],
   "source": [
    "chain_time2.get_graph().print_ascii()"
   ]
  },
  {
   "cell_type": "code",
   "execution_count": null,
   "id": "30946d40-1386-41c8-903f-bfd8df06fc7f",
   "metadata": {},
   "outputs": [],
   "source": []
  }
 ],
 "metadata": {
  "kernelspec": {
   "display_name": "langchain_env",
   "language": "python",
   "name": "langchain_env"
  },
  "language_info": {
   "codemirror_mode": {
    "name": "ipython",
    "version": 3
   },
   "file_extension": ".py",
   "mimetype": "text/x-python",
   "name": "python",
   "nbconvert_exporter": "python",
   "pygments_lexer": "ipython3",
   "version": "3.10.10"
  }
 },
 "nbformat": 4,
 "nbformat_minor": 5
}
