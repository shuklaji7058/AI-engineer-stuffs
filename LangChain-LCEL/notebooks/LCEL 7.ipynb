{
 "cells": [
  {
   "cell_type": "markdown",
   "id": "fff2540a-3a81-4eea-a422-d65363739bdc",
   "metadata": {},
   "source": [
    "RunnableParallel"
   ]
  },
  {
   "cell_type": "code",
   "execution_count": 1,
   "id": "ea98347c-1935-4bd0-a4c0-7062e43789c4",
   "metadata": {},
   "outputs": [],
   "source": [
    "%load_ext dotenv\n",
    "%dotenv"
   ]
  },
  {
   "cell_type": "code",
   "execution_count": 2,
   "id": "32b4ad06-2c9e-4f7e-af06-e503f4fd4e78",
   "metadata": {},
   "outputs": [],
   "source": [
    "from langchain_core.prompts import ChatPromptTemplate\n",
    "from langchain_google_genai import ChatGoogleGenerativeAI\n",
    "from langchain_core.output_parsers import StrOutputParser\n",
    "from langchain_core.runnables import RunnableParallel"
   ]
  },
  {
   "cell_type": "code",
   "execution_count": 4,
   "id": "d2b3a29b-3545-4660-8f6c-1df9e789e4d3",
   "metadata": {},
   "outputs": [],
   "source": [
    "import os"
   ]
  },
  {
   "cell_type": "code",
   "execution_count": 5,
   "id": "105ae6cf-2f38-48f6-9d11-15c2319734d0",
   "metadata": {},
   "outputs": [],
   "source": [
    "chat_template_books = ChatPromptTemplate.from_template(\n",
    "    '''\n",
    "    Suggest three of the best intermediate-level {programming language} books. \n",
    "    Answer only by listing the books.\n",
    "    '''\n",
    ")\n",
    "\n",
    "chat_template_projects = ChatPromptTemplate.from_template(\n",
    "    '''\n",
    "    Suggest three interesting {programming language} projects suitable for intermediate-level programmers. \n",
    "    Answer only by listing the projects.\n",
    "    '''\n",
    ")"
   ]
  },
  {
   "cell_type": "code",
   "execution_count": 6,
   "id": "e595ea1b-ca59-4d93-99e6-81d9caa0a572",
   "metadata": {},
   "outputs": [],
   "source": [
    "chat = ChatGoogleGenerativeAI(\n",
    "    google_api_key = os.getenv(\"GEMINI_API_KEY\"),  \n",
    "    model = \"gemini-2.0-flash\",\n",
    "    temperature = 0,\n",
    "    max_output_tokens = 100,\n",
    "    model_kwargs = {\"seed\": 365}\n",
    ")"
   ]
  },
  {
   "cell_type": "code",
   "execution_count": 7,
   "id": "4a5123ea-0ac5-46c2-ac62-2052f552db64",
   "metadata": {},
   "outputs": [],
   "source": [
    "string_parser = StrOutputParser()"
   ]
  },
  {
   "cell_type": "code",
   "execution_count": 8,
   "id": "6304c323-ccd4-45c3-9728-a39187f8a24c",
   "metadata": {},
   "outputs": [],
   "source": [
    "chain_books = chat_template_books | chat | string_parser\n",
    "chain_projects = chat_template_projects | chat | string_parser"
   ]
  },
  {
   "cell_type": "code",
   "execution_count": 9,
   "id": "0cf56ab0-8ebc-4120-9cc2-9489fa3b8e32",
   "metadata": {},
   "outputs": [],
   "source": [
    "chain_parallel= RunnableParallel({'books':chain_books, 'projects':chain_projects})"
   ]
  },
  {
   "cell_type": "code",
   "execution_count": 10,
   "id": "80c1fee6-511b-4add-8152-5b905dfe9fdc",
   "metadata": {},
   "outputs": [
    {
     "data": {
      "text/plain": [
       "{'books': '*   Fluent Python\\n*   Effective Python: 90 Specific Ways to Write Better Python\\n*   Python Cookbook',\n",
       " 'projects': '*   **Web Scraper with Data Analysis and Visualization**\\n*   **Personal Finance Tracker with GUI**\\n*   **Simple Game Engine with Custom Game**'}"
      ]
     },
     "execution_count": 10,
     "metadata": {},
     "output_type": "execute_result"
    }
   ],
   "source": [
    "chain_parallel.invoke({'programming language':'Python'})"
   ]
  },
  {
   "cell_type": "code",
   "execution_count": 11,
   "id": "63083051-404a-45de-9af3-cda695016bb9",
   "metadata": {},
   "outputs": [
    {
     "name": "stdout",
     "output_type": "stream",
     "text": [
      "                   +-------------------------------+                     \n",
      "                   | Parallel<books,projects>Input |                     \n",
      "                   +-------------------------------+                     \n",
      "                       ****                  ****                        \n",
      "                   ****                          ****                    \n",
      "                 **                                  **                  \n",
      "  +--------------------+                       +--------------------+    \n",
      "  | ChatPromptTemplate |                       | ChatPromptTemplate |    \n",
      "  +--------------------+                       +--------------------+    \n",
      "             *                                            *              \n",
      "             *                                            *              \n",
      "             *                                            *              \n",
      "+------------------------+                   +------------------------+  \n",
      "| ChatGoogleGenerativeAI |                   | ChatGoogleGenerativeAI |  \n",
      "+------------------------+                   +------------------------+  \n",
      "             *                                            *              \n",
      "             *                                            *              \n",
      "             *                                            *              \n",
      "    +-----------------+                         +-----------------+      \n",
      "    | StrOutputParser |                         | StrOutputParser |      \n",
      "    +-----------------+                         +-----------------+      \n",
      "                       ****                  ****                        \n",
      "                           ****          ****                            \n",
      "                               **      **                                \n",
      "                  +--------------------------------+                     \n",
      "                  | Parallel<books,projects>Output |                     \n",
      "                  +--------------------------------+                     \n"
     ]
    }
   ],
   "source": [
    "chain_parallel.get_graph().print_ascii()"
   ]
  },
  {
   "cell_type": "code",
   "execution_count": 12,
   "id": "f522e5f7-0852-437a-a786-c4ce64b6d3fb",
   "metadata": {},
   "outputs": [
    {
     "name": "stdout",
     "output_type": "stream",
     "text": [
      "CPU times: total: 0 ns\n",
      "Wall time: 984 ms\n"
     ]
    },
    {
     "data": {
      "text/plain": [
       "'*   Fluent Python\\n*   Effective Python: 90 Specific Ways to Write Better Python\\n*   Python Cookbook'"
      ]
     },
     "execution_count": 12,
     "metadata": {},
     "output_type": "execute_result"
    }
   ],
   "source": [
    "%%time \n",
    "chain_books.invoke({'programming language':'Python'})"
   ]
  },
  {
   "cell_type": "code",
   "execution_count": 13,
   "id": "fec4c2cc-a050-4385-802d-c344eac9961f",
   "metadata": {},
   "outputs": [
    {
     "name": "stdout",
     "output_type": "stream",
     "text": [
      "CPU times: total: 0 ns\n",
      "Wall time: 1.4 s\n"
     ]
    },
    {
     "data": {
      "text/plain": [
       "'*   **Web Scraper with Data Analysis and Visualization**\\n*   **Personal Finance Tracker with GUI**\\n*   **Simple Game Engine with Custom Levels**'"
      ]
     },
     "execution_count": 13,
     "metadata": {},
     "output_type": "execute_result"
    }
   ],
   "source": [
    "%%time \n",
    "chain_projects.invoke({'programming language':'Python'})"
   ]
  },
  {
   "cell_type": "code",
   "execution_count": 14,
   "id": "69b3c829-0c9a-407a-92e1-9fe73a26e504",
   "metadata": {},
   "outputs": [
    {
     "name": "stdout",
     "output_type": "stream",
     "text": [
      "CPU times: total: 31.2 ms\n",
      "Wall time: 2.33 s\n"
     ]
    },
    {
     "data": {
      "text/plain": [
       "{'books': '*   Fluent Python\\n*   Effective Python: 90 Specific Ways to Write Better Python\\n*   Python Cookbook',\n",
       " 'projects': '*   **Web Scraper with Data Analysis and Visualization**\\n*   **Personal Finance Tracker with GUI**\\n*   **Simple Game Engine with Custom Levels**'}"
      ]
     },
     "execution_count": 14,
     "metadata": {},
     "output_type": "execute_result"
    }
   ],
   "source": [
    "%%time \n",
    "chain_parallel.invoke({'programming language':'Python'})"
   ]
  },
  {
   "cell_type": "code",
   "execution_count": null,
   "id": "896ffb77-341e-4448-9fed-27f6d26e09be",
   "metadata": {},
   "outputs": [],
   "source": []
  }
 ],
 "metadata": {
  "kernelspec": {
   "display_name": "langchain_env",
   "language": "python",
   "name": "langchain_env"
  },
  "language_info": {
   "codemirror_mode": {
    "name": "ipython",
    "version": 3
   },
   "file_extension": ".py",
   "mimetype": "text/x-python",
   "name": "python",
   "nbconvert_exporter": "python",
   "pygments_lexer": "ipython3",
   "version": "3.10.10"
  }
 },
 "nbformat": 4,
 "nbformat_minor": 5
}
