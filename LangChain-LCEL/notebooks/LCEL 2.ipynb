{
 "cells": [
  {
   "cell_type": "markdown",
   "id": "aef512e1-6323-4126-b942-94e4525e7003",
   "metadata": {},
   "source": [
    "BATCHING"
   ]
  },
  {
   "cell_type": "code",
   "execution_count": 1,
   "id": "aaa7d1b0-8ef7-4a25-9e10-6b891a006d89",
   "metadata": {},
   "outputs": [],
   "source": [
    "%load_ext dotenv\n",
    "%dotenv"
   ]
  },
  {
   "cell_type": "code",
   "execution_count": 2,
   "id": "c1f3ab37-feee-453f-9fad-dbc98f8ce529",
   "metadata": {},
   "outputs": [],
   "source": [
    "from langchain_google_genai import ChatGoogleGenerativeAI"
   ]
  },
  {
   "cell_type": "code",
   "execution_count": 3,
   "id": "9c4ff10c-4597-4aa1-a482-6014306e593e",
   "metadata": {},
   "outputs": [],
   "source": [
    "from langchain_core.prompts import ChatPromptTemplate"
   ]
  },
  {
   "cell_type": "code",
   "execution_count": 4,
   "id": "8aff21a5-1d06-445d-9665-f7bab549d470",
   "metadata": {},
   "outputs": [],
   "source": [
    "import os"
   ]
  },
  {
   "cell_type": "code",
   "execution_count": 5,
   "id": "5ac8f879-0fdd-4a90-a526-93a6dadf35c5",
   "metadata": {},
   "outputs": [],
   "source": [
    "chat_template = ChatPromptTemplate.from_messages([\n",
    "    ('human', \n",
    "     \"I've recently adopted a {pet} which is a {breed}. Could you suggest several training tips?\")])"
   ]
  },
  {
   "cell_type": "code",
   "execution_count": 6,
   "id": "3ea5d2cb-4db2-4e2d-9736-9999c52ad6f8",
   "metadata": {},
   "outputs": [],
   "source": [
    "chat = ChatGoogleGenerativeAI(\n",
    "    google_api_key = os.getenv(\"GEMINI_API_KEY\"),  \n",
    "    model = \"gemini-2.0-flash\",\n",
    "    temperature = 0,\n",
    "    max_output_tokens = 100,\n",
    "    model_kwargs = {\"seed\": 365}\n",
    ")"
   ]
  },
  {
   "cell_type": "code",
   "execution_count": 7,
   "id": "5a7f58dc-56cd-4fef-bbf3-63d6727adbfb",
   "metadata": {},
   "outputs": [],
   "source": [
    "chain = chat_template | chat"
   ]
  },
  {
   "cell_type": "code",
   "execution_count": 8,
   "id": "461dd17c-48ae-4e0f-8f2a-95b889feb8d1",
   "metadata": {},
   "outputs": [
    {
     "data": {
      "text/plain": [
       "AIMessage(content='Congratulations on adopting a Shepherd! They are intelligent and eager to please, making them generally very trainable. Here are some training tips tailored for Shepherds:\\n\\n**1. Understanding Shepherd Traits:**\\n\\n*   **High Intelligence:** They learn quickly, but this also means they can pick up bad habits just as fast. Consistency is key.\\n*   **Herding Instincts:** This can manifest as nipping at heels, chasing, or circling. Training should focus on redirecting these instincts into positive', additional_kwargs={}, response_metadata={'prompt_feedback': {'block_reason': 0, 'safety_ratings': []}, 'finish_reason': 'MAX_TOKENS', 'safety_ratings': []}, id='run--26783a0e-7974-4623-96e8-bc7881cf4e9e-0', usage_metadata={'input_tokens': 19, 'output_tokens': 101, 'total_tokens': 120, 'input_token_details': {'cache_read': 0}})"
      ]
     },
     "execution_count": 8,
     "metadata": {},
     "output_type": "execute_result"
    }
   ],
   "source": [
    "chain.invoke({'pet':'dog', 'breed':'shepherd'})"
   ]
  },
  {
   "cell_type": "code",
   "execution_count": 10,
   "id": "67ae42e0-2bef-4d28-b3bc-71ddfe0e24c5",
   "metadata": {},
   "outputs": [
    {
     "name": "stdout",
     "output_type": "stream",
     "text": [
      "CPU times: total: 46.9 ms\n",
      "Wall time: 2.61 s\n"
     ]
    },
    {
     "data": {
      "text/plain": [
       "[AIMessage(content=\"Congratulations on adopting a Shepherd! They are intelligent and eager to please, making them generally very trainable. Here are some training tips tailored for Shepherds:\\n\\n**1. Understanding Your Shepherd's Breed Traits:**\\n\\n*   **High Energy:** Shepherds need a lot of exercise and mental stimulation.  Boredom can lead to destructive behaviors like excessive barking, chewing, or digging.\\n*   **Intelligence & Trainability:** They learn quickly and enjoy having a job to do.  This\", additional_kwargs={}, response_metadata={'prompt_feedback': {'block_reason': 0, 'safety_ratings': []}, 'finish_reason': 'MAX_TOKENS', 'safety_ratings': []}, id='run--94877150-e376-4047-a21d-5666fb88d4b9-0', usage_metadata={'input_tokens': 19, 'output_tokens': 98, 'total_tokens': 117, 'input_token_details': {'cache_read': 0}}),\n",
       " AIMessage(content=\"Congratulations on adopting a Night Fury! They are incredibly intelligent, loyal, and powerful dragons, but they also require a specific approach to training. Here are some tips to help you build a strong bond and train your Night Fury effectively:\\n\\n**1. Building Trust and Connection (The Most Important Step):**\\n\\n*   **Patience is Key:** Night Furies are naturally cautious and wary of strangers. Don't rush the process. Let your dragon come to you.\\n*   **Positive\", additional_kwargs={}, response_metadata={'prompt_feedback': {'block_reason': 0, 'safety_ratings': []}, 'finish_reason': 'MAX_TOKENS', 'safety_ratings': []}, id='run--09de18bd-399a-4a46-b9b3-d88b555dd29e-0', usage_metadata={'input_tokens': 20, 'output_tokens': 99, 'total_tokens': 119, 'input_token_details': {'cache_read': 0}})]"
      ]
     },
     "execution_count": 10,
     "metadata": {},
     "output_type": "execute_result"
    }
   ],
   "source": [
    "%%time\n",
    "chain.batch([{'pet':'dog', 'breed':'shepherd'}, \n",
    "             {'pet':'dragon', 'breed':'night fury'}])"
   ]
  },
  {
   "cell_type": "code",
   "execution_count": 11,
   "id": "ca00a10e-4cde-4211-8723-c200c7e62633",
   "metadata": {},
   "outputs": [
    {
     "name": "stdout",
     "output_type": "stream",
     "text": [
      "CPU times: total: 0 ns\n",
      "Wall time: 1.23 s\n"
     ]
    },
    {
     "data": {
      "text/plain": [
       "AIMessage(content=\"Congratulations on adopting a Shepherd! They are intelligent and eager to please, making them generally very trainable. Here are some training tips tailored for Shepherds:\\n\\n**1. Understanding Your Shepherd's Breed Traits:**\\n\\n*   **High Energy:** Shepherds need a lot of exercise and mental stimulation.  Boredom can lead to destructive behaviors like excessive barking, chewing, or digging.\\n*   **Intelligence & Trainability:** They learn quickly and enjoy having a job to do.  This\", additional_kwargs={}, response_metadata={'prompt_feedback': {'block_reason': 0, 'safety_ratings': []}, 'finish_reason': 'MAX_TOKENS', 'safety_ratings': []}, id='run--b138bdbe-7a54-4e66-926c-3e508c9e5521-0', usage_metadata={'input_tokens': 19, 'output_tokens': 98, 'total_tokens': 117, 'input_token_details': {'cache_read': 0}})"
      ]
     },
     "execution_count": 11,
     "metadata": {},
     "output_type": "execute_result"
    }
   ],
   "source": [
    "%%time\n",
    "chain.invoke({'pet':'dog', 'breed':'shepherd'})"
   ]
  },
  {
   "cell_type": "code",
   "execution_count": 12,
   "id": "2405f342-29d3-40b6-910d-c70e0749eefe",
   "metadata": {},
   "outputs": [
    {
     "name": "stdout",
     "output_type": "stream",
     "text": [
      "CPU times: total: 15.6 ms\n",
      "Wall time: 1.35 s\n"
     ]
    },
    {
     "data": {
      "text/plain": [
       "AIMessage(content=\"Congratulations on adopting a Night Fury! They are incredibly intelligent, loyal, and powerful dragons, but they also require a specific approach to training. Here are some tips to help you build a strong bond and train your Night Fury effectively:\\n\\n**1. Building Trust and Connection (The Most Important Step):**\\n\\n*   **Patience is Key:** Night Furies are naturally cautious and wary of strangers. Don't rush the process. Let your dragon come to you.\\n*   **Positive\", additional_kwargs={}, response_metadata={'prompt_feedback': {'block_reason': 0, 'safety_ratings': []}, 'finish_reason': 'MAX_TOKENS', 'safety_ratings': []}, id='run--9d7ab91d-edba-4cea-b502-7408883857ea-0', usage_metadata={'input_tokens': 20, 'output_tokens': 99, 'total_tokens': 119, 'input_token_details': {'cache_read': 0}})"
      ]
     },
     "execution_count": 12,
     "metadata": {},
     "output_type": "execute_result"
    }
   ],
   "source": [
    "%%time\n",
    "chain.invoke({'pet':'dragon', 'breed':'night fury'})"
   ]
  }
 ],
 "metadata": {
  "kernelspec": {
   "display_name": "langchain_env",
   "language": "python",
   "name": "langchain_env"
  },
  "language_info": {
   "codemirror_mode": {
    "name": "ipython",
    "version": 3
   },
   "file_extension": ".py",
   "mimetype": "text/x-python",
   "name": "python",
   "nbconvert_exporter": "python",
   "pygments_lexer": "ipython3",
   "version": "3.10.10"
  }
 },
 "nbformat": 4,
 "nbformat_minor": 5
}
