{
 "cells": [
  {
   "cell_type": "markdown",
   "id": "d1da35aa-fc53-4a37-9c5f-8380dd703527",
   "metadata": {},
   "source": [
    "Piping a Prompt, Model, and an Output Parser"
   ]
  },
  {
   "cell_type": "code",
   "execution_count": 1,
   "id": "4a1c4186-a052-48b4-ac14-56f398ad462f",
   "metadata": {},
   "outputs": [],
   "source": [
    "%load_ext dotenv\n",
    "%dotenv"
   ]
  },
  {
   "cell_type": "code",
   "execution_count": 2,
   "id": "fd32d65b-cf4f-4e04-871f-6c7ba476af07",
   "metadata": {},
   "outputs": [],
   "source": [
    "from langchain_google_genai import ChatGoogleGenerativeAI"
   ]
  },
  {
   "cell_type": "code",
   "execution_count": 3,
   "id": "649af8c3-d55f-4be1-8262-50d870481efd",
   "metadata": {},
   "outputs": [],
   "source": [
    "from langchain_core.prompts import ChatPromptTemplate\n",
    "from langchain_core.output_parsers import CommaSeparatedListOutputParser"
   ]
  },
  {
   "cell_type": "code",
   "execution_count": 9,
   "id": "6c1d166d-edc7-4c31-91a7-9ffe5881c32f",
   "metadata": {},
   "outputs": [],
   "source": [
    "import os"
   ]
  },
  {
   "cell_type": "code",
   "execution_count": 10,
   "id": "22b7d665-f595-4559-b321-f9df184895f2",
   "metadata": {},
   "outputs": [],
   "source": [
    "list_instructions = CommaSeparatedListOutputParser().get_format_instructions()"
   ]
  },
  {
   "cell_type": "code",
   "execution_count": 11,
   "id": "7293a172-5b31-4adb-a2ed-e4e12381b843",
   "metadata": {},
   "outputs": [
    {
     "data": {
      "text/plain": [
       "'Your response should be a list of comma separated values, eg: `foo, bar, baz` or `foo,bar,baz`'"
      ]
     },
     "execution_count": 11,
     "metadata": {},
     "output_type": "execute_result"
    }
   ],
   "source": [
    "list_instructions"
   ]
  },
  {
   "cell_type": "code",
   "execution_count": 12,
   "id": "44cd4f2d-8965-4bc6-b299-fc8862bf979e",
   "metadata": {},
   "outputs": [],
   "source": [
    "chat_template = ChatPromptTemplate.from_messages([\n",
    "    ('human', \n",
    "     \"I've recently adopted a {pet}. Could you suggest three indian {pet} names? \\n\" + list_instructions)])"
   ]
  },
  {
   "cell_type": "code",
   "execution_count": 13,
   "id": "3d311a8d-4783-4528-860d-0a2552416ceb",
   "metadata": {},
   "outputs": [
    {
     "name": "stdout",
     "output_type": "stream",
     "text": [
      "I've recently adopted a {pet}. Could you suggest three indian {pet} names? \n",
      "Your response should be a list of comma separated values, eg: `foo, bar, baz` or `foo,bar,baz`\n"
     ]
    }
   ],
   "source": [
    "print(chat_template.messages[0].prompt.template)"
   ]
  },
  {
   "cell_type": "code",
   "execution_count": 14,
   "id": "2ef825ca-26d1-40b1-94d7-fc5e91ec8525",
   "metadata": {},
   "outputs": [],
   "source": [
    "chat = ChatGoogleGenerativeAI(\n",
    "    google_api_key = os.getenv(\"GEMINI_API_KEY\"),  \n",
    "    model = \"gemini-2.0-flash\",\n",
    "    temperature = 0,\n",
    "    max_output_tokens = 100,\n",
    "    model_kwargs = {\"seed\": 365}\n",
    ")"
   ]
  },
  {
   "cell_type": "code",
   "execution_count": 15,
   "id": "0c862f4f-7897-4868-a2dd-7fbfc5fd2ca8",
   "metadata": {},
   "outputs": [],
   "source": [
    "list_output_parser = CommaSeparatedListOutputParser()"
   ]
  },
  {
   "cell_type": "code",
   "execution_count": 16,
   "id": "e60ea759-f918-4383-8493-5d9d28729ac3",
   "metadata": {},
   "outputs": [],
   "source": [
    "chat_template_result = chat_template.invoke({'pet':'dog'})"
   ]
  },
  {
   "cell_type": "code",
   "execution_count": 17,
   "id": "ccaefef4-2563-4eee-9df9-c573844555bf",
   "metadata": {},
   "outputs": [],
   "source": [
    "chat_result = chat.invoke(chat_template_result)"
   ]
  },
  {
   "cell_type": "code",
   "execution_count": 18,
   "id": "42dd2195-898e-4599-9368-0cc30a3b9dfc",
   "metadata": {},
   "outputs": [
    {
     "data": {
      "text/plain": [
       "['Raja', 'Rani', 'Badal']"
      ]
     },
     "execution_count": 18,
     "metadata": {},
     "output_type": "execute_result"
    }
   ],
   "source": [
    "list_output_parser.invoke(chat_result)"
   ]
  },
  {
   "cell_type": "code",
   "execution_count": 19,
   "id": "d63e02e6-ece4-4fdf-84f3-143adcc8a698",
   "metadata": {},
   "outputs": [],
   "source": [
    "chain = chat_template | chat | list_output_parser"
   ]
  },
  {
   "cell_type": "code",
   "execution_count": 20,
   "id": "2779bfb8-a76b-4989-b530-d09bc59d3ebb",
   "metadata": {},
   "outputs": [
    {
     "data": {
      "text/plain": [
       "['Raja', 'Rani', 'Badal']"
      ]
     },
     "execution_count": 20,
     "metadata": {},
     "output_type": "execute_result"
    }
   ],
   "source": [
    "chain.invoke({'pet':'dog'})"
   ]
  }
 ],
 "metadata": {
  "kernelspec": {
   "display_name": "langchain_env",
   "language": "python",
   "name": "langchain_env"
  },
  "language_info": {
   "codemirror_mode": {
    "name": "ipython",
    "version": 3
   },
   "file_extension": ".py",
   "mimetype": "text/x-python",
   "name": "python",
   "nbconvert_exporter": "python",
   "pygments_lexer": "ipython3",
   "version": "3.10.10"
  }
 },
 "nbformat": 4,
 "nbformat_minor": 5
}
