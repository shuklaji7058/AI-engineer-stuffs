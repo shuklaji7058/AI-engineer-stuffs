{
 "cells": [
  {
   "cell_type": "code",
   "execution_count": 1,
   "id": "c7a20929-9034-474c-b81c-536b86f8302a",
   "metadata": {},
   "outputs": [
    {
     "data": {
      "text/plain": [
       "5"
      ]
     },
     "execution_count": 1,
     "metadata": {},
     "output_type": "execute_result"
    }
   ],
   "source": [
    "x=5\n",
    "x"
   ]
  },
  {
   "cell_type": "code",
   "execution_count": 2,
   "id": "93b3b291-cb91-4c3a-bef5-c7f4294bd0d8",
   "metadata": {},
   "outputs": [
    {
     "data": {
      "text/plain": [
       "8"
      ]
     },
     "execution_count": 2,
     "metadata": {},
     "output_type": "execute_result"
    }
   ],
   "source": [
    "y=8\n",
    "y"
   ]
  },
  {
   "cell_type": "code",
   "execution_count": 3,
   "id": "8e194a66-62b6-45d9-9146-f916ffc160fb",
   "metadata": {},
   "outputs": [
    {
     "data": {
      "text/plain": [
       "13"
      ]
     },
     "execution_count": 3,
     "metadata": {},
     "output_type": "execute_result"
    }
   ],
   "source": [
    "x+y"
   ]
  },
  {
   "cell_type": "code",
   "execution_count": 4,
   "id": "b41e048b-543a-4693-a3f0-93a7945c5bc5",
   "metadata": {},
   "outputs": [
    {
     "name": "stdout",
     "output_type": "stream",
     "text": [
      "1\n"
     ]
    }
   ],
   "source": [
    "Numbers=[1,2,3,4,5]\n",
    "print(Numbers[0])"
   ]
  },
  {
   "cell_type": "code",
   "execution_count": 5,
   "id": "a3b14cba-4c25-416e-8637-1edf7d99fc29",
   "metadata": {},
   "outputs": [
    {
     "data": {
      "text/plain": [
       "1"
      ]
     },
     "execution_count": 5,
     "metadata": {},
     "output_type": "execute_result"
    }
   ],
   "source": [
    "Numbers[0]"
   ]
  },
  {
   "cell_type": "markdown",
   "id": "675f1483-4f81-48d6-bdeb-a5b49fede0e2",
   "metadata": {},
   "source": [
    "Data types"
   ]
  },
  {
   "cell_type": "code",
   "execution_count": 1,
   "id": "1ee2cd0d-97e8-4535-9b05-3918b77aff7f",
   "metadata": {},
   "outputs": [
    {
     "data": {
      "text/plain": [
       "int"
      ]
     },
     "execution_count": 1,
     "metadata": {},
     "output_type": "execute_result"
    }
   ],
   "source": [
    "x2=5\n",
    "type(x2)"
   ]
  },
  {
   "cell_type": "code",
   "execution_count": 2,
   "id": "f1498a8e-2a2f-4632-805c-c1219c7ac7ec",
   "metadata": {},
   "outputs": [
    {
     "data": {
      "text/plain": [
       "bool"
      ]
     },
     "execution_count": 2,
     "metadata": {},
     "output_type": "execute_result"
    }
   ],
   "source": [
    "x3=True\n",
    "type(x3)"
   ]
  },
  {
   "cell_type": "markdown",
   "id": "3bbd13da-0c43-4f88-b832-c14e014dd51f",
   "metadata": {},
   "source": [
    "strings"
   ]
  },
  {
   "cell_type": "code",
   "execution_count": 6,
   "id": "f372c0da-014e-46fc-88c8-806f2d280c67",
   "metadata": {},
   "outputs": [
    {
     "name": "stdout",
     "output_type": "stream",
     "text": [
      "Anish\n"
     ]
    }
   ],
   "source": [
    "print(\"Anish\")"
   ]
  },
  {
   "cell_type": "code",
   "execution_count": 16,
   "id": "e3ab1322-8f3c-48b1-a0fa-b02399b94067",
   "metadata": {},
   "outputs": [
    {
     "name": "stdout",
     "output_type": "stream",
     "text": [
      "10 Dollars\n"
     ]
    }
   ],
   "source": [
    "y=10\n",
    "print(f\"{y} Dollars\")"
   ]
  },
  {
   "cell_type": "code",
   "execution_count": 17,
   "id": "f2fbcce7-235c-40e4-9adb-7b073fd79d14",
   "metadata": {},
   "outputs": [
    {
     "data": {
      "text/plain": [
       "\"I'am fine\""
      ]
     },
     "execution_count": 17,
     "metadata": {},
     "output_type": "execute_result"
    }
   ],
   "source": [
    "\"I'am fine\""
   ]
  },
  {
   "cell_type": "code",
   "execution_count": 19,
   "id": "eaece99f-a448-464a-af08-724d1729eee2",
   "metadata": {},
   "outputs": [
    {
     "data": {
      "text/plain": [
       "'AnishShukla'"
      ]
     },
     "execution_count": 19,
     "metadata": {},
     "output_type": "execute_result"
    }
   ],
   "source": [
    "\"Anish\" \"Shukla\""
   ]
  },
  {
   "cell_type": "code",
   "execution_count": 20,
   "id": "f96ca3a0-0861-4a9f-8e61-bd9f7568b502",
   "metadata": {},
   "outputs": [
    {
     "data": {
      "text/plain": [
       "'Ravi Shukla'"
      ]
     },
     "execution_count": 20,
     "metadata": {},
     "output_type": "execute_result"
    }
   ],
   "source": [
    "\"Ravi \" \"Shukla\""
   ]
  },
  {
   "cell_type": "code",
   "execution_count": 29,
   "id": "9d6aab9e-bfca-42d5-bef2-c0a81bfec1a3",
   "metadata": {},
   "outputs": [
    {
     "name": "stdout",
     "output_type": "stream",
     "text": [
      "click \"OK\"\n"
     ]
    }
   ],
   "source": [
    "print('click \"OK\"')"
   ]
  },
  {
   "cell_type": "code",
   "execution_count": 30,
   "id": "4ae8b6eb-772b-460c-82d5-58bfd1b36b26",
   "metadata": {},
   "outputs": [
    {
     "data": {
      "text/plain": [
       "'Joshua'"
      ]
     },
     "execution_count": 30,
     "metadata": {},
     "output_type": "execute_result"
    }
   ],
   "source": [
    "x=\"Joshua\"\n",
    "x"
   ]
  },
  {
   "cell_type": "code",
   "execution_count": 31,
   "id": "b208bb8b-4fb0-4a96-9c3d-9029180a063c",
   "metadata": {},
   "outputs": [
    {
     "data": {
      "text/plain": [
       "\"Aren't you hungry?\""
      ]
     },
     "execution_count": 31,
     "metadata": {},
     "output_type": "execute_result"
    }
   ],
   "source": [
    "\"Aren't you hungry?\""
   ]
  },
  {
   "cell_type": "code",
   "execution_count": 32,
   "id": "0df8423d-c429-402c-9a98-d5c90f95f9f2",
   "metadata": {},
   "outputs": [
    {
     "data": {
      "text/plain": [
       "\"Aren't you hungry?\""
      ]
     },
     "execution_count": 32,
     "metadata": {},
     "output_type": "execute_result"
    }
   ],
   "source": [
    "\"Aren\\'t you hungry?\""
   ]
  },
  {
   "cell_type": "code",
   "execution_count": 33,
   "id": "b8e42629-58e7-410e-a6cb-9a19a3a49066",
   "metadata": {},
   "outputs": [
    {
     "data": {
      "text/plain": [
       "\"Aren't you hungry?\""
      ]
     },
     "execution_count": 33,
     "metadata": {},
     "output_type": "execute_result"
    }
   ],
   "source": [
    "'Aren\\'t you hungry?'"
   ]
  },
  {
   "cell_type": "markdown",
   "id": "e3172951-77e4-4f02-ac53-0bbcf6874f76",
   "metadata": {},
   "source": [
    "arihtmatic operators\n"
   ]
  },
  {
   "cell_type": "code",
   "execution_count": 35,
   "id": "78ef7afb-8694-4002-8497-8fc2335687dd",
   "metadata": {},
   "outputs": [
    {
     "data": {
      "text/plain": [
       "5.333333333333333"
      ]
     },
     "execution_count": 35,
     "metadata": {},
     "output_type": "execute_result"
    }
   ],
   "source": [
    "16/3"
   ]
  },
  {
   "cell_type": "code",
   "execution_count": 36,
   "id": "50a0d3d8-acfd-43b5-b069-a315b0f2e6ff",
   "metadata": {},
   "outputs": [
    {
     "data": {
      "text/plain": [
       "5.333333333333333"
      ]
     },
     "execution_count": 36,
     "metadata": {},
     "output_type": "execute_result"
    }
   ],
   "source": [
    "int(16)/3"
   ]
  },
  {
   "cell_type": "code",
   "execution_count": 39,
   "id": "47a73bc3-56aa-48c0-ab20-9be25f13e50f",
   "metadata": {},
   "outputs": [
    {
     "data": {
      "text/plain": [
       "5.333333333333333"
      ]
     },
     "execution_count": 39,
     "metadata": {},
     "output_type": "execute_result"
    }
   ],
   "source": [
    "float(16)/3"
   ]
  },
  {
   "cell_type": "code",
   "execution_count": 42,
   "id": "be1271b0-91aa-4ebd-be87-3d7c83df52aa",
   "metadata": {},
   "outputs": [
    {
     "data": {
      "text/plain": [
       "6"
      ]
     },
     "execution_count": 42,
     "metadata": {},
     "output_type": "execute_result"
    }
   ],
   "source": [
    "15 % 9"
   ]
  },
  {
   "cell_type": "code",
   "execution_count": 44,
   "id": "59608413-df3a-42f1-8bcc-0a6c83617d5b",
   "metadata": {},
   "outputs": [],
   "source": [
    "z = 3"
   ]
  },
  {
   "cell_type": "code",
   "execution_count": 45,
   "id": "a8a1cc11-4085-4280-a5ac-16bf055d5135",
   "metadata": {},
   "outputs": [
    {
     "data": {
      "text/plain": [
       "3"
      ]
     },
     "execution_count": 45,
     "metadata": {},
     "output_type": "execute_result"
    }
   ],
   "source": [
    "z"
   ]
  },
  {
   "cell_type": "code",
   "execution_count": 46,
   "id": "bd33e888-bfac-4226-b29f-1bfee44222c2",
   "metadata": {},
   "outputs": [
    {
     "data": {
      "text/plain": [
       "1"
      ]
     },
     "execution_count": 46,
     "metadata": {},
     "output_type": "execute_result"
    }
   ],
   "source": [
    "z=1\n",
    "z"
   ]
  },
  {
   "cell_type": "code",
   "execution_count": 47,
   "id": "07fcf787-6646-486e-a13b-568a60ef5740",
   "metadata": {},
   "outputs": [
    {
     "data": {
      "text/plain": [
       "2"
      ]
     },
     "execution_count": 47,
     "metadata": {},
     "output_type": "execute_result"
    }
   ],
   "source": [
    "z+z"
   ]
  },
  {
   "cell_type": "code",
   "execution_count": 48,
   "id": "073cb177-ddae-43c6-803d-3c077768603b",
   "metadata": {},
   "outputs": [
    {
     "data": {
      "text/plain": [
       "0"
      ]
     },
     "execution_count": 48,
     "metadata": {},
     "output_type": "execute_result"
    }
   ],
   "source": [
    "z-z"
   ]
  },
  {
   "cell_type": "markdown",
   "id": "4e002d39-9165-416d-a46e-c4a4845324a5",
   "metadata": {},
   "source": [
    "indentation"
   ]
  },
  {
   "cell_type": "code",
   "execution_count": 53,
   "id": "ec619291-726a-4f00-a81a-0a39cd100735",
   "metadata": {},
   "outputs": [
    {
     "name": "stdout",
     "output_type": "stream",
     "text": [
      "10\n"
     ]
    }
   ],
   "source": [
    "def ten(x):\n",
    "    x=10\n",
    "    return x\n",
    "print(ten(1))"
   ]
  },
  {
   "cell_type": "markdown",
   "id": "fbbfe3a0-1af2-4884-a6eb-ce3cd78a7896",
   "metadata": {},
   "source": [
    "logical operators"
   ]
  },
  {
   "cell_type": "code",
   "execution_count": 58,
   "id": "c4dc46f1-a15e-4720-98a6-6cc9d981313e",
   "metadata": {},
   "outputs": [
    {
     "data": {
      "text/plain": [
       "False"
      ]
     },
     "execution_count": 58,
     "metadata": {},
     "output_type": "execute_result"
    }
   ],
   "source": [
    "False or not True or False and False"
   ]
  },
  {
   "cell_type": "code",
   "execution_count": null,
   "id": "895492a6-6700-4196-b4d2-d3c0f707056f",
   "metadata": {},
   "outputs": [],
   "source": []
  }
 ],
 "metadata": {
  "kernelspec": {
   "display_name": "Python [conda env:base] *",
   "language": "python",
   "name": "conda-base-py"
  },
  "language_info": {
   "codemirror_mode": {
    "name": "ipython",
    "version": 3
   },
   "file_extension": ".py",
   "mimetype": "text/x-python",
   "name": "python",
   "nbconvert_exporter": "python",
   "pygments_lexer": "ipython3",
   "version": "3.12.4"
  }
 },
 "nbformat": 4,
 "nbformat_minor": 5
}
