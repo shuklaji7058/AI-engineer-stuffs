{
 "cells": [
  {
   "cell_type": "code",
   "execution_count": 1,
   "id": "0e4db342-e071-4b49-891f-5be615353f67",
   "metadata": {},
   "outputs": [],
   "source": [
    "name={1:\"Anish\",2:\"Ravi\",3:\"Ritu\"}"
   ]
  },
  {
   "cell_type": "code",
   "execution_count": 2,
   "id": "b792dcd8-e9f2-45c0-8964-3e735a8a5c69",
   "metadata": {},
   "outputs": [
    {
     "data": {
      "text/plain": [
       "{1: 'Anish', 2: 'Ravi', 3: 'Ritu'}"
      ]
     },
     "execution_count": 2,
     "metadata": {},
     "output_type": "execute_result"
    }
   ],
   "source": [
    "name"
   ]
  },
  {
   "cell_type": "code",
   "execution_count": 3,
   "id": "39b16064-c708-4c32-9f65-a22c82a9f05b",
   "metadata": {},
   "outputs": [
    {
     "data": {
      "text/plain": [
       "'Anish'"
      ]
     },
     "execution_count": 3,
     "metadata": {},
     "output_type": "execute_result"
    }
   ],
   "source": [
    "name[1]"
   ]
  },
  {
   "cell_type": "code",
   "execution_count": 2,
   "id": "1f02bb82-4e5e-4d4f-bbf1-ba3fa5fa591c",
   "metadata": {},
   "outputs": [],
   "source": [
    "student={\"r1\":\"Rinku\",\"r2\":[\"Maya\",\"Dinesh\"]}"
   ]
  },
  {
   "cell_type": "code",
   "execution_count": 3,
   "id": "ee1ed9e2-ab35-46fa-b050-3be2c15d860a",
   "metadata": {},
   "outputs": [
    {
     "data": {
      "text/plain": [
       "{'r1': 'Rinku', 'r2': ['Maya', 'Dinesh']}"
      ]
     },
     "execution_count": 3,
     "metadata": {},
     "output_type": "execute_result"
    }
   ],
   "source": [
    "student\n"
   ]
  },
  {
   "cell_type": "code",
   "execution_count": 4,
   "id": "ee85bfc0-4395-49de-9396-ab7ce8e7dba4",
   "metadata": {},
   "outputs": [
    {
     "data": {
      "text/plain": [
       "['Maya', 'Dinesh']"
      ]
     },
     "execution_count": 4,
     "metadata": {},
     "output_type": "execute_result"
    }
   ],
   "source": [
    "student[\"r2\"]"
   ]
  },
  {
   "cell_type": "code",
   "execution_count": 5,
   "id": "0438e17a-e2e9-4552-9b21-a249a59651e2",
   "metadata": {},
   "outputs": [
    {
     "name": "stdout",
     "output_type": "stream",
     "text": [
      "Rinku\n"
     ]
    }
   ],
   "source": [
    "print(student.get(\"r1\"))"
   ]
  },
  {
   "cell_type": "code",
   "execution_count": null,
   "id": "4715abdd-493d-460b-9056-cb8e70a9cf97",
   "metadata": {},
   "outputs": [],
   "source": []
  }
 ],
 "metadata": {
  "kernelspec": {
   "display_name": "Python [conda env:base] *",
   "language": "python",
   "name": "conda-base-py"
  },
  "language_info": {
   "codemirror_mode": {
    "name": "ipython",
    "version": 3
   },
   "file_extension": ".py",
   "mimetype": "text/x-python",
   "name": "python",
   "nbconvert_exporter": "python",
   "pygments_lexer": "ipython3",
   "version": "3.12.4"
  }
 },
 "nbformat": 4,
 "nbformat_minor": 5
}
