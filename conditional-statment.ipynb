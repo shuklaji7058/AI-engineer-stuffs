{
 "cells": [
  {
   "cell_type": "code",
   "execution_count": 2,
   "id": "08390692-1d8e-466b-9447-d5c89f4c14dd",
   "metadata": {},
   "outputs": [
    {
     "name": "stdout",
     "output_type": "stream",
     "text": [
      "1 2 4 8 16 32 64 128 256 512 1024 "
     ]
    }
   ],
   "source": [
    "for n in range(11):\n",
    "    print(2 ** n, end = ' ')"
   ]
  },
  {
   "cell_type": "code",
   "execution_count": 3,
   "id": "0c625df9-a253-492a-9616-6eb28fbb828d",
   "metadata": {},
   "outputs": [
    {
     "name": "stdout",
     "output_type": "stream",
     "text": [
      "0 odd 2 odd 4 odd 6 odd 8 odd 10 odd 12 odd 14 odd 16 odd 18 odd "
     ]
    }
   ],
   "source": [
    "for x in range(20):\n",
    "    if x % 2 == 0:\n",
    "        print (x, end = ' ')\n",
    "    else:\n",
    "        print(\"odd\", end = ' ')"
   ]
  },
  {
   "cell_type": "code",
   "execution_count": 5,
   "id": "9a330c8b-34bb-4b46-ba6e-3104009dedc5",
   "metadata": {},
   "outputs": [
    {
     "name": "stdout",
     "output_type": "stream",
     "text": [
      "0 1 2 3 4 5 "
     ]
    }
   ],
   "source": [
    "x=[0,1,2,3,4,5]\n",
    "for item in x:\n",
    "    print(item, end = ' ')"
   ]
  },
  {
   "cell_type": "markdown",
   "id": "5afc368a-40c4-46c9-919b-539f072d2f38",
   "metadata": {},
   "source": [
    "All in one"
   ]
  },
  {
   "cell_type": "code",
   "execution_count": 1,
   "id": "e8be4ee2-9b06-4acd-a760-2770bb55b552",
   "metadata": {},
   "outputs": [],
   "source": [
    "def count(numbers):\n",
    "    total=0\n",
    "    for x in numbers:\n",
    "        if x < 20:\n",
    "            total +=1\n",
    "    return total"
   ]
  },
  {
   "cell_type": "code",
   "execution_count": 2,
   "id": "e9328f1b-1dac-4ec2-85df-af0b20daee13",
   "metadata": {},
   "outputs": [],
   "source": [
    "list=[1,2,23,12,16,17,56,76]"
   ]
  },
  {
   "cell_type": "code",
   "execution_count": 3,
   "id": "8819a7ca-6757-413f-942d-74fcc61222a8",
   "metadata": {},
   "outputs": [
    {
     "data": {
      "text/plain": [
       "5"
      ]
     },
     "execution_count": 3,
     "metadata": {},
     "output_type": "execute_result"
    }
   ],
   "source": [
    "count(list)"
   ]
  },
  {
   "cell_type": "code",
   "execution_count": null,
   "id": "1712909d-2ca9-4c5b-9ee4-7780e078c97f",
   "metadata": {},
   "outputs": [],
   "source": []
  }
 ],
 "metadata": {
  "kernelspec": {
   "display_name": "Python [conda env:base] *",
   "language": "python",
   "name": "conda-base-py"
  },
  "language_info": {
   "codemirror_mode": {
    "name": "ipython",
    "version": 3
   },
   "file_extension": ".py",
   "mimetype": "text/x-python",
   "name": "python",
   "nbconvert_exporter": "python",
   "pygments_lexer": "ipython3",
   "version": "3.12.4"
  }
 },
 "nbformat": 4,
 "nbformat_minor": 5
}
