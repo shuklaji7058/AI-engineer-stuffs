{
 "cells": [
  {
   "cell_type": "code",
   "execution_count": 2,
   "id": "9fd3ad4d-c751-404e-9466-aea011d7ea12",
   "metadata": {},
   "outputs": [
    {
     "name": "stdout",
     "output_type": "stream",
     "text": [
      "Area and perimeter: \n"
     ]
    },
    {
     "data": {
      "text/plain": [
       "(9, 12)"
      ]
     },
     "execution_count": 2,
     "metadata": {},
     "output_type": "execute_result"
    }
   ],
   "source": [
    "def square_info(x):\n",
    "    a = x ** 2\n",
    "    p = x * 4\n",
    "    print(\"Area and pa: \")\n",
    "    return a,p\n",
    "square_info(3)"
   ]
  },
  {
   "cell_type": "code",
   "execution_count": 4,
   "id": "0ca9ef03-3064-4688-8df9-80163ccf8222",
   "metadata": {},
   "outputs": [
    {
     "name": "stdout",
     "output_type": "stream",
     "text": [
      "21\n",
      "16\n"
     ]
    }
   ],
   "source": [
    "(age, years_of_school)= \"21,16\".split(',')\n",
    "print(age)\n",
    "print(years_of_school)"
   ]
  },
  {
   "cell_type": "code",
   "execution_count": null,
   "id": "06cc5ace-ff0c-451b-aec5-157911b3f55f",
   "metadata": {},
   "outputs": [],
   "source": []
  }
 ],
 "metadata": {
  "kernelspec": {
   "display_name": "Python [conda env:base] *",
   "language": "python",
   "name": "conda-base-py"
  },
  "language_info": {
   "codemirror_mode": {
    "name": "ipython",
    "version": 3
   },
   "file_extension": ".py",
   "mimetype": "text/x-python",
   "name": "python",
   "nbconvert_exporter": "python",
   "pygments_lexer": "ipython3",
   "version": "3.12.4"
  }
 },
 "nbformat": 4,
 "nbformat_minor": 5
}
