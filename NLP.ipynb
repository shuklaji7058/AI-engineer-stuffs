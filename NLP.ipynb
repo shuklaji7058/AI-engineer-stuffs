{
 "cells": [
  {
   "cell_type": "markdown",
   "id": "ec1aa338-3a01-43c7-99ad-616469c1c152",
   "metadata": {},
   "source": [
    "LOWERCASE"
   ]
  },
  {
   "cell_type": "code",
   "execution_count": 1,
   "id": "ddee66cf-427d-4092-a876-47b26ca0e20d",
   "metadata": {},
   "outputs": [],
   "source": [
    "name=\"Namah Parwati Pataye Har Har Mahadev\""
   ]
  },
  {
   "cell_type": "code",
   "execution_count": 3,
   "id": "bdb0c4b8-b8c8-4ac4-a548-f8b036bcbb87",
   "metadata": {},
   "outputs": [
    {
     "data": {
      "text/plain": [
       "'namah parwati pataye har har mahadev'"
      ]
     },
     "execution_count": 3,
     "metadata": {},
     "output_type": "execute_result"
    }
   ],
   "source": [
    "name.lower()"
   ]
  },
  {
   "cell_type": "markdown",
   "id": "d2e4e6dd-ef15-408b-9e05-32ccd5d6b0b0",
   "metadata": {},
   "source": [
    "REMOVING STOPWORDS"
   ]
  },
  {
   "cell_type": "code",
   "execution_count": 5,
   "id": "e85a257e-2778-44ab-89c2-3a6eea5db5f4",
   "metadata": {},
   "outputs": [
    {
     "name": "stderr",
     "output_type": "stream",
     "text": [
      "[nltk_data] Downloading package stopwords to\n",
      "[nltk_data]     C:\\Users\\shukl\\AppData\\Roaming\\nltk_data...\n",
      "[nltk_data]   Package stopwords is already up-to-date!\n"
     ]
    }
   ],
   "source": [
    "# Import the Natural Language Toolkit library\n",
    "import nltk\n",
    "# Download the stopwords corpus data if not already present\n",
    "nltk.download('stopwords')\n",
    "# Import the stopwords module from nltk.corpus\n",
    "from nltk.corpus import stopwords"
   ]
  },
  {
   "cell_type": "code",
   "execution_count": 18,
   "id": "8c2b54e7-7efb-4d56-9ca5-5e3f345d8d19",
   "metadata": {},
   "outputs": [],
   "source": [
    "en_stopwords = stopwords.words('english')"
   ]
  },
  {
   "cell_type": "code",
   "execution_count": 19,
   "id": "6e9ecea1-0865-4705-bb7f-5e9988012b0d",
   "metadata": {},
   "outputs": [
    {
     "name": "stdout",
     "output_type": "stream",
     "text": [
      "['a', 'about', 'above', 'after', 'again', 'against', 'ain', 'all', 'am', 'an', 'and', 'any', 'are', 'aren', \"aren't\", 'as', 'at', 'be', 'because', 'been', 'before', 'being', 'below', 'between', 'both', 'but', 'by', 'can', 'couldn', \"couldn't\", 'd', 'did', 'didn', \"didn't\", 'do', 'does', 'doesn', \"doesn't\", 'doing', 'don', \"don't\", 'down', 'during', 'each', 'few', 'for', 'from', 'further', 'had', 'hadn', \"hadn't\", 'has', 'hasn', \"hasn't\", 'have', 'haven', \"haven't\", 'having', 'he', \"he'd\", \"he'll\", 'her', 'here', 'hers', 'herself', \"he's\", 'him', 'himself', 'his', 'how', 'i', \"i'd\", 'if', \"i'll\", \"i'm\", 'in', 'into', 'is', 'isn', \"isn't\", 'it', \"it'd\", \"it'll\", \"it's\", 'its', 'itself', \"i've\", 'just', 'll', 'm', 'ma', 'me', 'mightn', \"mightn't\", 'more', 'most', 'mustn', \"mustn't\", 'my', 'myself', 'needn', \"needn't\", 'no', 'nor', 'not', 'now', 'o', 'of', 'off', 'on', 'once', 'only', 'or', 'other', 'our', 'ours', 'ourselves', 'out', 'over', 'own', 're', 's', 'same', 'shan', \"shan't\", 'she', \"she'd\", \"she'll\", \"she's\", 'should', 'shouldn', \"shouldn't\", \"should've\", 'so', 'some', 'such', 't', 'than', 'that', \"that'll\", 'the', 'their', 'theirs', 'them', 'themselves', 'then', 'there', 'these', 'they', \"they'd\", \"they'll\", \"they're\", \"they've\", 'this', 'those', 'through', 'to', 'too', 'under', 'until', 'up', 've', 'very', 'was', 'wasn', \"wasn't\", 'we', \"we'd\", \"we'll\", \"we're\", 'were', 'weren', \"weren't\", \"we've\", 'what', 'when', 'where', 'which', 'while', 'who', 'whom', 'why', 'will', 'with', 'won', \"won't\", 'wouldn', \"wouldn't\", 'y', 'you', \"you'd\", \"you'll\", 'your', \"you're\", 'yours', 'yourself', 'yourselves', \"you've\"]\n"
     ]
    }
   ],
   "source": [
    "print(en_stopwords)"
   ]
  },
  {
   "cell_type": "code",
   "execution_count": 20,
   "id": "1e88026c-801a-479c-b71a-3195dfea9f44",
   "metadata": {},
   "outputs": [],
   "source": [
    "sentence = 'The person thinks that he is very bravve to do all coding stuffs but he can not'"
   ]
  },
  {
   "cell_type": "code",
   "execution_count": 22,
   "id": "2038b8ab-bd43-4070-8f7e-56b0daec1efc",
   "metadata": {},
   "outputs": [],
   "source": [
    "sentence_no_stopwords = ' '.join([word for word in sentence.split() if word not in en_stopwords])"
   ]
  },
  {
   "cell_type": "code",
   "execution_count": 23,
   "id": "993cec54-f4b0-4b5a-888c-0a4569dee9fc",
   "metadata": {},
   "outputs": [
    {
     "name": "stdout",
     "output_type": "stream",
     "text": [
      "The person thinks bravve coding stuffs\n"
     ]
    }
   ],
   "source": [
    "print(sentence_no_stopwords)"
   ]
  },
  {
   "cell_type": "code",
   "execution_count": 25,
   "id": "d4794671-fa69-4fa3-b94b-4a8e0558fe2c",
   "metadata": {},
   "outputs": [],
   "source": [
    "en_stopwords.remove(\"he\")"
   ]
  },
  {
   "cell_type": "code",
   "execution_count": 26,
   "id": "246f8db9-98af-4411-a472-8b244ce52b9f",
   "metadata": {},
   "outputs": [
    {
     "name": "stdout",
     "output_type": "stream",
     "text": [
      "The person thinks that he is very bravve to do all coding stuffs but he can not\n"
     ]
    }
   ],
   "source": [
    "print(sentence)"
   ]
  },
  {
   "cell_type": "code",
   "execution_count": 28,
   "id": "461ae938-52bf-418a-b0dc-b51339bb26f8",
   "metadata": {},
   "outputs": [
    {
     "name": "stderr",
     "output_type": "stream",
     "text": [
      "[nltk_data] Downloading package punkt to\n",
      "[nltk_data]     C:\\Users\\shukl\\AppData\\Roaming\\nltk_data...\n",
      "[nltk_data]   Unzipping tokenizers\\punkt.zip.\n"
     ]
    },
    {
     "name": "stdout",
     "output_type": "stream",
     "text": [
      "Original: ['This', 'is', 'a', 'simple', 'example', 'showing', 'how', 'to', 'remove', 'stopwords', 'using', 'NLTK', '.']\n",
      "Without Stopwords: ['simple', 'example', 'showing', 'remove', 'stopwords', 'using', 'NLTK', '.']\n"
     ]
    }
   ],
   "source": [
    "import nltk\n",
    "from nltk.corpus import stopwords\n",
    "from nltk.tokenize import word_tokenize\n",
    "\n",
    "# Download stopwords and tokenizer models (only once)\n",
    "# nltk.download('stopwords')\n",
    "nltk.download('punkt')\n",
    "\n",
    "# Sample text\n",
    "text = \"This is a simple example showing how to remove stopwords using NLTK.\"\n",
    "\n",
    "# Convert text to tokens (words)\n",
    "words = word_tokenize(text)\n",
    "\n",
    "# Get English stopwords\n",
    "stop_words = set(stopwords.words('english'))\n",
    "\n",
    "# Remove stopwords\n",
    "filtered_words = [word for word in words if word.lower() not in stop_words]\n",
    "\n",
    "# Output result\n",
    "print(\"Original:\", words)\n",
    "print(\"Without Stopwords:\", filtered_words)\n"
   ]
  },
  {
   "cell_type": "markdown",
   "id": "9c0669ba-6d13-4276-aaed-f1dc7a842e0a",
   "metadata": {},
   "source": [
    "REGULAR EXPRESSION"
   ]
  },
  {
   "cell_type": "code",
   "execution_count": 12,
   "id": "e0a91a4d-c6a0-4803-bc2a-132bcd25c29c",
   "metadata": {},
   "outputs": [],
   "source": [
    "import re"
   ]
  },
  {
   "cell_type": "code",
   "execution_count": 13,
   "id": "ab054c8d-5de8-42dd-91f8-5fa287bcd280",
   "metadata": {},
   "outputs": [
    {
     "name": "stdout",
     "output_type": "stream",
     "text": [
      "C:\\desktop\\notes\n"
     ]
    }
   ],
   "source": [
    "my_folder = r\"C:\\desktop\\notes\"\n",
    "print(my_folder)"
   ]
  },
  {
   "cell_type": "markdown",
   "id": "59d958da-f65c-4d69-ab76-c659fcb091bf",
   "metadata": {},
   "source": [
    "re.search"
   ]
  },
  {
   "cell_type": "code",
   "execution_count": 14,
   "id": "b6fa00c3-277d-42f4-8a5c-12eeb5fb39ab",
   "metadata": {},
   "outputs": [
    {
     "name": "stdout",
     "output_type": "stream",
     "text": [
      "<re.Match object; span=(22, 29), match='pattern'>\n"
     ]
    }
   ],
   "source": [
    "result_search = re.search(\"pattern\", r\"string containing the pattern\")\n",
    "print(result_search)"
   ]
  },
  {
   "cell_type": "code",
   "execution_count": 15,
   "id": "dd838dd5-51b0-435d-97d2-d51d324a1bce",
   "metadata": {},
   "outputs": [
    {
     "name": "stdout",
     "output_type": "stream",
     "text": [
      "None\n"
     ]
    }
   ],
   "source": [
    "result_search = re.search(\"pattern\", r\"string containing the string\")\n",
    "print(result_search)"
   ]
  },
  {
   "cell_type": "markdown",
   "id": "3f57428b-7f84-4c59-a20b-96e5330b7424",
   "metadata": {},
   "source": [
    "re.sub"
   ]
  },
  {
   "cell_type": "code",
   "execution_count": 16,
   "id": "8359a07c-618a-4e2e-8ae8-92e3dc19a75d",
   "metadata": {},
   "outputs": [],
   "source": [
    "import re"
   ]
  },
  {
   "cell_type": "code",
   "execution_count": 17,
   "id": "89100c1d-4d67-4659-a930-76c83ed55b2f",
   "metadata": {},
   "outputs": [],
   "source": [
    "string = r\"anish was able to help me find the items i needed quickly\""
   ]
  },
  {
   "cell_type": "code",
   "execution_count": 18,
   "id": "21e7c9d0-7562-401e-8151-1e24a85aa97a",
   "metadata": {},
   "outputs": [
    {
     "name": "stdout",
     "output_type": "stream",
     "text": [
      "anishh was able to help me find the items i needed quickly\n"
     ]
    }
   ],
   "source": [
    "new_string = re.sub(r\"anish\", r\"anishh\", string) # replace the incorrect spelling of anishh\n",
    "print(new_string)"
   ]
  },
  {
   "cell_type": "markdown",
   "id": "7311bb12-4abc-400f-b2ca-73db922b8097",
   "metadata": {},
   "source": [
    "Regex Syntax"
   ]
  },
  {
   "cell_type": "code",
   "execution_count": 19,
   "id": "4911bde5-b072-463d-9b91-851e23782b39",
   "metadata": {},
   "outputs": [],
   "source": [
    "customer_reviews = ['sam was a great help to me in the store', \n",
    "                    'the cashier was very rude to me, I think her name was eleanor', \n",
    "                    'amazing work from sadeen!', \n",
    "                    'sarah was able to help me find the items i needed quickly', \n",
    "                    'lucy is such a great addition to the team', \n",
    "                    'great service from sara she found me what i wanted'\n",
    "                   ]"
   ]
  },
  {
   "cell_type": "code",
   "execution_count": 20,
   "id": "da97e312-72e1-4d27-9bef-93b91df46e55",
   "metadata": {},
   "outputs": [],
   "source": [
    "sarahs_reviews = []\n",
    "pattern_to_find = r\"sarah?\" \n",
    "# the ? after r means it is an optional character to match, so our search will look for sarah and sara"
   ]
  },
  {
   "cell_type": "code",
   "execution_count": 21,
   "id": "707ab8b9-5284-4bde-b2eb-d0239cab47da",
   "metadata": {},
   "outputs": [],
   "source": [
    "for string in customer_reviews:\n",
    "    if (re.search(pattern_to_find, string)):\n",
    "        sarahs_reviews.append(string)"
   ]
  },
  {
   "cell_type": "code",
   "execution_count": 22,
   "id": "aa0e395a-bef1-47be-833f-946e1a3fe77c",
   "metadata": {},
   "outputs": [
    {
     "name": "stdout",
     "output_type": "stream",
     "text": [
      "['sarah was able to help me find the items i needed quickly', 'great service from sara she found me what i wanted']\n"
     ]
    }
   ],
   "source": [
    "print(sarahs_reviews)"
   ]
  },
  {
   "cell_type": "markdown",
   "id": "a8cdf137-6e06-4743-a866-84a94f358222",
   "metadata": {},
   "source": [
    "\n",
    "Find reviews that start with the letter a"
   ]
  },
  {
   "cell_type": "code",
   "execution_count": 23,
   "id": "f62f64ff-fae6-4e25-9853-f78a035917de",
   "metadata": {},
   "outputs": [],
   "source": [
    "a_reviews = []\n",
    "pattern_to_find = r\"^a\" # the ^ operator to indicates the start of a string"
   ]
  },
  {
   "cell_type": "code",
   "execution_count": 24,
   "id": "85d1552e-4dd7-43b1-bbaa-81eb6dc47d0b",
   "metadata": {},
   "outputs": [],
   "source": [
    "for string in customer_reviews:\n",
    "    if (re.search(pattern_to_find, string)):\n",
    "        a_reviews.append(string)"
   ]
  },
  {
   "cell_type": "code",
   "execution_count": 25,
   "id": "0193e11f-6f26-4a23-966e-929e02f1c64c",
   "metadata": {},
   "outputs": [
    {
     "name": "stdout",
     "output_type": "stream",
     "text": [
      "['amazing work from sadeen!']\n"
     ]
    }
   ],
   "source": [
    "print(a_reviews)"
   ]
  },
  {
   "cell_type": "markdown",
   "id": "36f1ce8b-e0cb-4871-95f3-2c56601cb3ae",
   "metadata": {},
   "source": [
    "Find reviews that end with the letter y"
   ]
  },
  {
   "cell_type": "code",
   "execution_count": 26,
   "id": "b06615d5-33f7-4371-9fc6-3c1c8b7d526e",
   "metadata": {},
   "outputs": [],
   "source": [
    "y_reviews = []\n",
    "pattern_to_find = r\"y$\" # the $ operator to indicate the end of a string"
   ]
  },
  {
   "cell_type": "code",
   "execution_count": 27,
   "id": "c162078f-bb9d-487c-aedb-45e638f60174",
   "metadata": {},
   "outputs": [],
   "source": [
    "for string in customer_reviews:\n",
    "    if (re.search(pattern_to_find, string)):\n",
    "        y_reviews.append(string)"
   ]
  },
  {
   "cell_type": "code",
   "execution_count": 28,
   "id": "8d286f8d-7913-4bd0-9cd6-d05b3df71e44",
   "metadata": {},
   "outputs": [
    {
     "name": "stdout",
     "output_type": "stream",
     "text": [
      "['sarah was able to help me find the items i needed quickly']\n"
     ]
    }
   ],
   "source": [
    "print(y_reviews)"
   ]
  },
  {
   "cell_type": "markdown",
   "id": "ee299d7e-e266-4040-8714-8fe23a325ee4",
   "metadata": {},
   "source": [
    "Find reviews that contain the words needed or wanted\n",
    "\n"
   ]
  },
  {
   "cell_type": "code",
   "execution_count": 29,
   "id": "479f4ad5-c3ad-4333-a0cf-91a732d83cab",
   "metadata": {},
   "outputs": [],
   "source": [
    "needwant_reviews = []\n",
    "pattern_to_find = r\"(need|want)ed\" # the pipe operator | can be used to mean OR"
   ]
  },
  {
   "cell_type": "code",
   "execution_count": 30,
   "id": "72071948-fa88-4740-8b16-e295b0a5d706",
   "metadata": {},
   "outputs": [],
   "source": [
    "for string in customer_reviews:\n",
    "    if (re.search(pattern_to_find, string)):\n",
    "        needwant_reviews.append(string)"
   ]
  },
  {
   "cell_type": "code",
   "execution_count": 31,
   "id": "f518caff-a769-488c-a088-3e02a0293c3c",
   "metadata": {},
   "outputs": [
    {
     "name": "stdout",
     "output_type": "stream",
     "text": [
      "['sarah was able to help me find the items i needed quickly', 'great service from sara she found me what i wanted']\n"
     ]
    }
   ],
   "source": [
    "print(needwant_reviews)"
   ]
  },
  {
   "cell_type": "markdown",
   "id": "a6294e51-9308-493a-b4c0-796d185a018a",
   "metadata": {},
   "source": [
    "Remove anything from the review that isn't a word or a space (i.e. remove punctuation)"
   ]
  },
  {
   "cell_type": "code",
   "execution_count": 32,
   "id": "2b4cd90b-0044-473c-b39d-caa1baf432ea",
   "metadata": {},
   "outputs": [],
   "source": [
    "no_punct_reviews = []\n",
    "pattern_to_find = r\"[^\\w\\s]\" \n",
    "# [^ ] means \"not\", \\w means word and \\s means whitespace: so find anything that is not a word or a space"
   ]
  },
  {
   "cell_type": "code",
   "execution_count": 33,
   "id": "87a3f3b4-02eb-4974-8cf2-e7203ea7c821",
   "metadata": {},
   "outputs": [],
   "source": [
    "for string in customer_reviews:\n",
    "    no_punct_string = re.sub(pattern_to_find, \"\", string)\n",
    "    no_punct_reviews.append(no_punct_string)"
   ]
  },
  {
   "cell_type": "code",
   "execution_count": 34,
   "id": "548dc04a-ea1a-4857-879c-f9cf8ae68f02",
   "metadata": {},
   "outputs": [
    {
     "name": "stdout",
     "output_type": "stream",
     "text": [
      "['sam was a great help to me in the store', 'the cashier was very rude to me I think her name was eleanor', 'amazing work from sadeen', 'sarah was able to help me find the items i needed quickly', 'lucy is such a great addition to the team', 'great service from sara she found me what i wanted']\n"
     ]
    }
   ],
   "source": [
    "print(no_punct_reviews)"
   ]
  },
  {
   "cell_type": "markdown",
   "id": "b4d76d19-54d4-4cb5-b1ca-56d44ac8782d",
   "metadata": {},
   "source": [
    "Tokenization"
   ]
  },
  {
   "cell_type": "code",
   "execution_count": 36,
   "id": "f2f7fd23-1aa2-473d-a38f-fe35e7d587d9",
   "metadata": {},
   "outputs": [],
   "source": [
    "from nltk.tokenize import word_tokenize, sent_tokenize"
   ]
  },
  {
   "cell_type": "markdown",
   "id": "65b51488-26f4-4bc0-8ff3-880495e2fdbb",
   "metadata": {},
   "source": [
    "Sentance tokenization\n"
   ]
  },
  {
   "cell_type": "code",
   "execution_count": 37,
   "id": "b70d1c4f-c4a6-4d8f-8a31-d081324687d1",
   "metadata": {},
   "outputs": [
    {
     "data": {
      "text/plain": [
       "[\"Her cat's name is Luna.\", \"Her dog's name is max\"]"
      ]
     },
     "execution_count": 37,
     "metadata": {},
     "output_type": "execute_result"
    }
   ],
   "source": [
    "sentences = \"Her cat's name is Luna. Her dog's name is max\"\n",
    "sent_tokenize(sentences)"
   ]
  },
  {
   "cell_type": "markdown",
   "id": "76e90773-8ff5-410f-85ee-0cb2c1334589",
   "metadata": {},
   "source": [
    "Word tokenization\n"
   ]
  },
  {
   "cell_type": "code",
   "execution_count": 38,
   "id": "db847d00-d5b3-4e3e-8dd1-d09a9960e775",
   "metadata": {},
   "outputs": [
    {
     "data": {
      "text/plain": [
       "['Her', 'cat', \"'s\", 'name', 'is', 'Luna']"
      ]
     },
     "execution_count": 38,
     "metadata": {},
     "output_type": "execute_result"
    }
   ],
   "source": [
    "sentence = \"Her cat's name is Luna\"\n",
    "word_tokenize(sentence)"
   ]
  },
  {
   "cell_type": "code",
   "execution_count": 39,
   "id": "e22daeec-9a46-4401-945a-5af53ab1efe9",
   "metadata": {},
   "outputs": [
    {
     "data": {
      "text/plain": [
       "['Her',\n",
       " 'cat',\n",
       " \"'s\",\n",
       " 'name',\n",
       " 'is',\n",
       " 'Luna',\n",
       " 'and',\n",
       " 'her',\n",
       " 'dog',\n",
       " \"'s\",\n",
       " 'name',\n",
       " 'is',\n",
       " 'max']"
      ]
     },
     "execution_count": 39,
     "metadata": {},
     "output_type": "execute_result"
    }
   ],
   "source": [
    "sentence_2 = \"Her cat's name is Luna and her dog's name is max\"\n",
    "word_tokenize(sentence_2)"
   ]
  },
  {
   "cell_type": "code",
   "execution_count": 40,
   "id": "88a23972-a759-4113-baab-63a9a23e49fb",
   "metadata": {},
   "outputs": [
    {
     "data": {
      "text/plain": [
       "['Anish', 'Shukla', 'the', 'student', 'who', 'survive', 'till', 'the', 'last']"
      ]
     },
     "execution_count": 40,
     "metadata": {},
     "output_type": "execute_result"
    }
   ],
   "source": [
    "name=\"Anish Shukla the student who survive till the last\"\n",
    "sent_tokenize(name)\n",
    "word_tokenize(name)"
   ]
  },
  {
   "cell_type": "markdown",
   "id": "bfba8c99-3763-48c2-ad36-cc631b6d197c",
   "metadata": {},
   "source": [
    "STEMMING"
   ]
  },
  {
   "cell_type": "code",
   "execution_count": 41,
   "id": "8149e415-cd4b-428e-abbd-b2207a104af1",
   "metadata": {},
   "outputs": [],
   "source": [
    "from nltk.stem import PorterStemmer"
   ]
  },
  {
   "cell_type": "code",
   "execution_count": 42,
   "id": "de7ae2b4-7172-4af1-9254-1a1939503028",
   "metadata": {},
   "outputs": [],
   "source": [
    "ps= PorterStemmer()"
   ]
  },
  {
   "cell_type": "code",
   "execution_count": 43,
   "id": "9ac03f62-ae7a-4b14-90d8-338f8b5c3ef1",
   "metadata": {},
   "outputs": [],
   "source": [
    "connect_tokens = [\"connecting\",\"connected\",\"connectivity\",\"connect\",\"connects\"]"
   ]
  },
  {
   "cell_type": "code",
   "execution_count": 44,
   "id": "3d96635c-9b78-47e7-b31e-02a3be459902",
   "metadata": {},
   "outputs": [
    {
     "name": "stdout",
     "output_type": "stream",
     "text": [
      "connecting :  connect\n",
      "connected :  connect\n",
      "connectivity :  connect\n",
      "connect :  connect\n",
      "connects :  connect\n"
     ]
    }
   ],
   "source": [
    "for t in connect_tokens:\n",
    "    print(t, \": \",ps.stem(t))"
   ]
  },
  {
   "cell_type": "code",
   "execution_count": 47,
   "id": "04dac6e9-6865-4662-b078-15c780af29b9",
   "metadata": {},
   "outputs": [],
   "source": [
    "name_tokens = [\"likes\",\"better\",\"worse\",\"horse\"]"
   ]
  },
  {
   "cell_type": "code",
   "execution_count": 48,
   "id": "ab311ae1-635b-423a-b5fe-b4b21a2fda67",
   "metadata": {},
   "outputs": [
    {
     "name": "stdout",
     "output_type": "stream",
     "text": [
      "likes :  like\n",
      "better :  better\n",
      "worse :  wors\n",
      "horse :  hors\n"
     ]
    }
   ],
   "source": [
    "for t in name_tokens:\n",
    "    print(t, \": \",ps.stem(t))"
   ]
  },
  {
   "cell_type": "code",
   "execution_count": null,
   "id": "a24d4c7b-18f1-4755-9536-bd2c0819abcf",
   "metadata": {},
   "outputs": [],
   "source": []
  }
 ],
 "metadata": {
  "kernelspec": {
   "display_name": "Python [conda env:base] *",
   "language": "python",
   "name": "conda-base-py"
  },
  "language_info": {
   "codemirror_mode": {
    "name": "ipython",
    "version": 3
   },
   "file_extension": ".py",
   "mimetype": "text/x-python",
   "name": "python",
   "nbconvert_exporter": "python",
   "pygments_lexer": "ipython3",
   "version": "3.12.4"
  }
 },
 "nbformat": 4,
 "nbformat_minor": 5
}
