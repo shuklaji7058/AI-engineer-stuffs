{
 "cells": [
  {
   "cell_type": "code",
   "execution_count": 2,
   "id": "58b94c43-bd44-4224-886e-de22e0b61362",
   "metadata": {},
   "outputs": [
    {
     "name": "stdout",
     "output_type": "stream",
     "text": [
      "0 2 4 6 8 10 12 14 16 18 20 "
     ]
    }
   ],
   "source": [
    "x=0\n",
    "while x <= 20:\n",
    "    print(x, end = \" \")\n",
    "    x +=  2"
   ]
  },
  {
   "cell_type": "markdown",
   "id": "3cef4045-506f-4b2f-a16f-13d4362e5016",
   "metadata": {},
   "source": [
    "print odd numbers"
   ]
  },
  {
   "cell_type": "code",
   "execution_count": 2,
   "id": "b55ff3bc-784f-46a0-8b39-a16849bbd4ac",
   "metadata": {},
   "outputs": [
    {
     "name": "stdout",
     "output_type": "stream",
     "text": [
      "1 3 5 7 9 11 13 15 17 19 21 23 25 27 29 "
     ]
    }
   ],
   "source": [
    "x = 1\n",
    "while x <= 30:\n",
    "    print(x, end = ' ')\n",
    "    x = x + 2"
   ]
  },
  {
   "cell_type": "markdown",
   "id": "e85dc46a-a5c6-487d-90e6-a40dff836298",
   "metadata": {},
   "source": [
    "Range"
   ]
  },
  {
   "cell_type": "code",
   "execution_count": 3,
   "id": "85b02750-28b8-4041-b200-b87c59c1088e",
   "metadata": {},
   "outputs": [
    {
     "data": {
      "text/plain": [
       "[0, 1, 2, 3, 4, 5, 6, 7, 8, 9]"
      ]
     },
     "execution_count": 3,
     "metadata": {},
     "output_type": "execute_result"
    }
   ],
   "source": [
    "list(range(10))"
   ]
  },
  {
   "cell_type": "markdown",
   "id": "db4b8077-777e-4e7c-958f-8a2291308962",
   "metadata": {},
   "source": [
    "to find odd no. using range\n"
   ]
  },
  {
   "cell_type": "code",
   "execution_count": 6,
   "id": "0b779517-5e18-4724-9cdb-6940b517e2f8",
   "metadata": {},
   "outputs": [
    {
     "data": {
      "text/plain": [
       "[1, 3, 5, 7, 9, 11, 13, 15, 17, 19]"
      ]
     },
     "execution_count": 6,
     "metadata": {},
     "output_type": "execute_result"
    }
   ],
   "source": [
    "list(range(1,20,2))"
   ]
  },
  {
   "cell_type": "code",
   "execution_count": null,
   "id": "4a3a0ed2-03f6-4bd3-b82c-0c16ff30bd0c",
   "metadata": {},
   "outputs": [],
   "source": []
  }
 ],
 "metadata": {
  "kernelspec": {
   "display_name": "Python [conda env:base] *",
   "language": "python",
   "name": "conda-base-py"
  },
  "language_info": {
   "codemirror_mode": {
    "name": "ipython",
    "version": 3
   },
   "file_extension": ".py",
   "mimetype": "text/x-python",
   "name": "python",
   "nbconvert_exporter": "python",
   "pygments_lexer": "ipython3",
   "version": "3.12.4"
  }
 },
 "nbformat": 4,
 "nbformat_minor": 5
}
