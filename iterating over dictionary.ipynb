{
 "cells": [
  {
   "cell_type": "code",
   "execution_count": 1,
   "id": "dda77f6e-bb94-4d9d-bcb7-921d31ab76f9",
   "metadata": {},
   "outputs": [],
   "source": [
    "prices = {\n",
    "    \"aaloo\":4,\n",
    "    \"pyaz\":3,\n",
    "    \"capsicum\":2\n",
    "}\n",
    "quantity = {\n",
    "    \"aaloo\":7,\n",
    "    \"pyaz\":5,\n",
    "    \"capsicum\":1\n",
    "}"
   ]
  },
  {
   "cell_type": "code",
   "execution_count": 3,
   "id": "01782f49-a3b5-4892-b4ce-7f801afdd2a0",
   "metadata": {},
   "outputs": [
    {
     "name": "stdout",
     "output_type": "stream",
     "text": [
      "45\n"
     ]
    }
   ],
   "source": [
    "money_spent = 0\n",
    "for i in quantity:\n",
    "    money_spent =money_spent + prices[i] * quantity[i]\n",
    "print(money_spent)"
   ]
  },
  {
   "cell_type": "markdown",
   "id": "38aa7b7f-fac0-41e2-87b0-78b478b15467",
   "metadata": {},
   "source": [
    "Iterating over Dictionaries - Exercise #1\n",
    "In this exercise you will use the same dictionaries as the ones we used in the lesson - prices and quantity. This time, don't just calculate all the money Jan spent. Calculate how much she spent on products with a price of 5 dollars or more."
   ]
  },
  {
   "cell_type": "code",
   "execution_count": 5,
   "id": "d6dfdff0-8774-4c99-9687-a97bb6b6db79",
   "metadata": {},
   "outputs": [
    {
     "name": "stdout",
     "output_type": "stream",
     "text": [
      "50\n"
     ]
    }
   ],
   "source": [
    "# Dictionary of food items with their prices\n",
    "prices = {\n",
    "    \"box_of_spaghetti\" : 4,\n",
    "    \"lasagna\"  : 5,\n",
    "    \"hamburger\" : 2\n",
    "   }\n",
    "# Dictionary of food items with their quantities\n",
    "quantity = {\n",
    "    \"box_of_spaghetti\" : 6,\n",
    "    \"lasagna\"  : 10,\n",
    "    \"hamburger\" : 0\n",
    "    }\n",
    "\n",
    "# Initialize the total money spent\n",
    "money_spent = 0\n",
    "# Loop through each item in the prices dictionary\n",
    "for i in prices:\n",
    "    # Only add to money_spent if the item costs 5 or more\n",
    "    if prices[i] >= 5:\n",
    "        money_spent += prices[i] * quantity[i]\n",
    "    else:\n",
    "        # This else clause is redundant as it doesn't change money_spent\n",
    "        money_spent = money_spent\n",
    "# Print the total money spent on items that cost 5 or more\n",
    "print(money_spent)"
   ]
  },
  {
   "cell_type": "code",
   "execution_count": null,
   "id": "884ba163-b8f9-49a0-b4ac-0317fbda2ad7",
   "metadata": {},
   "outputs": [],
   "source": []
  }
 ],
 "metadata": {
  "kernelspec": {
   "display_name": "Python [conda env:base] *",
   "language": "python",
   "name": "conda-base-py"
  },
  "language_info": {
   "codemirror_mode": {
    "name": "ipython",
    "version": 3
   },
   "file_extension": ".py",
   "mimetype": "text/x-python",
   "name": "python",
   "nbconvert_exporter": "python",
   "pygments_lexer": "ipython3",
   "version": "3.12.4"
  }
 },
 "nbformat": 4,
 "nbformat_minor": 5
}
