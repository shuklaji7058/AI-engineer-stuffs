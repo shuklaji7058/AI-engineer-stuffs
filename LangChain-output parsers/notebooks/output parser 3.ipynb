{
 "cells": [
  {
   "cell_type": "markdown",
   "id": "29ffefd6-c31b-4cd1-966c-217af6a65439",
   "metadata": {},
   "source": [
    "DATETIME OUTPUT PARSER"
   ]
  },
  {
   "cell_type": "code",
   "execution_count": 5,
   "id": "a056668d-6dc6-4565-9fe8-96a135bb9a22",
   "metadata": {},
   "outputs": [],
   "source": [
    "%reload_ext dotenv\n",
    "%dotenv"
   ]
  },
  {
   "cell_type": "code",
   "execution_count": 6,
   "id": "d2d9d358-240a-4478-8f79-c4df58eab388",
   "metadata": {},
   "outputs": [],
   "source": [
    "from langchain_google_genai import ChatGoogleGenerativeAI"
   ]
  },
  {
   "cell_type": "code",
   "execution_count": 7,
   "id": "b0dcbf95-df34-4bae-9ea0-eaf3d4bc3a5c",
   "metadata": {},
   "outputs": [],
   "source": [
    "from langchain_core.messages import HumanMessage\n",
    "from langchain.output_parsers import DatetimeOutputParser"
   ]
  },
  {
   "cell_type": "code",
   "execution_count": 8,
   "id": "817f2ee4-b986-4baf-bd5e-47b10bc85ab0",
   "metadata": {},
   "outputs": [],
   "source": [
    "import os"
   ]
  },
  {
   "cell_type": "code",
   "execution_count": 9,
   "id": "0406ba25-e648-4407-b31e-fc760cb4e838",
   "metadata": {},
   "outputs": [],
   "source": [
    "chat = ChatGoogleGenerativeAI(\n",
    "    google_api_key = os.getenv(\"GEMINI_API_KEY\"),  \n",
    "    model = \"gemini-2.0-flash\",\n",
    "    temperature = 0,\n",
    "    max_output_tokens = 100,\n",
    "    model_kwargs = {\"seed\": 365}\n",
    ")"
   ]
  },
  {
   "cell_type": "code",
   "execution_count": 10,
   "id": "bc2e476e-970b-45c8-9443-c2a1dafdc6ee",
   "metadata": {},
   "outputs": [],
   "source": [
    "message_h = HumanMessage(content = f''' When was the Virat Kohli born? \n",
    "\n",
    "{DatetimeOutputParser().get_format_instructions()}\n",
    "''')"
   ]
  },
  {
   "cell_type": "code",
   "execution_count": 11,
   "id": "bd00ebda-9c92-4679-b4a0-e3043575ebdf",
   "metadata": {},
   "outputs": [
    {
     "name": "stdout",
     "output_type": "stream",
     "text": [
      " When was the Virat Kohli born? \n",
      "\n",
      "Write a datetime string that matches the following pattern: '%Y-%m-%dT%H:%M:%S.%fZ'.\n",
      "\n",
      "Examples: 0981-07-18T21:59:34.635624Z, 0999-03-28T05:32:47.059097Z, 0130-11-14T00:47:35.668436Z\n",
      "\n",
      "Return ONLY this string, no other words!\n",
      "\n"
     ]
    }
   ],
   "source": [
    "print(message_h.content)"
   ]
  },
  {
   "cell_type": "code",
   "execution_count": 12,
   "id": "9de7146d-b521-42ac-b830-b98faca6a089",
   "metadata": {},
   "outputs": [
    {
     "name": "stdout",
     "output_type": "stream",
     "text": [
      "1988-11-05T00:00:00.000000Z\n"
     ]
    }
   ],
   "source": [
    "response = chat.invoke([message_h])\n",
    "print(response.content)"
   ]
  },
  {
   "cell_type": "code",
   "execution_count": 13,
   "id": "9575ac3d-4078-40cc-a9b4-c510a9f78e82",
   "metadata": {},
   "outputs": [],
   "source": [
    "date_output_parser = DatetimeOutputParser()"
   ]
  },
  {
   "cell_type": "code",
   "execution_count": 14,
   "id": "f34a0e06-e9bf-437a-a7e6-44005b16fe7e",
   "metadata": {},
   "outputs": [],
   "source": [
    "response_parsed = date_output_parser.invoke(response)"
   ]
  },
  {
   "cell_type": "code",
   "execution_count": 15,
   "id": "f11f84d7-c4d5-4488-baf6-b9959d61853a",
   "metadata": {},
   "outputs": [
    {
     "data": {
      "text/plain": [
       "datetime.datetime(1988, 11, 5, 0, 0)"
      ]
     },
     "execution_count": 15,
     "metadata": {},
     "output_type": "execute_result"
    }
   ],
   "source": [
    "response_parsed"
   ]
  },
  {
   "cell_type": "code",
   "execution_count": 16,
   "id": "e1862d38-bd21-4a2d-ab3a-ba9f268903ef",
   "metadata": {},
   "outputs": [
    {
     "name": "stdout",
     "output_type": "stream",
     "text": [
      "Write a datetime string that matches the following pattern: '%Y-%m-%dT%H:%M:%S.%fZ'.\n",
      "\n",
      "Examples: 0113-08-16T15:28:43.822105Z, 0545-07-20T06:47:41.416611Z, 0467-04-22T20:18:42.461449Z\n",
      "\n",
      "Return ONLY this string, no other words!\n"
     ]
    }
   ],
   "source": [
    "print(date_output_parser.get_format_instructions())"
   ]
  },
  {
   "cell_type": "code",
   "execution_count": null,
   "id": "6748327c-f9e0-4f8a-99a5-0d85a43a1591",
   "metadata": {},
   "outputs": [],
   "source": []
  }
 ],
 "metadata": {
  "kernelspec": {
   "display_name": "langchain_env",
   "language": "python",
   "name": "langchain_env"
  },
  "language_info": {
   "codemirror_mode": {
    "name": "ipython",
    "version": 3
   },
   "file_extension": ".py",
   "mimetype": "text/x-python",
   "name": "python",
   "nbconvert_exporter": "python",
   "pygments_lexer": "ipython3",
   "version": "3.10.10"
  }
 },
 "nbformat": 4,
 "nbformat_minor": 5
}
