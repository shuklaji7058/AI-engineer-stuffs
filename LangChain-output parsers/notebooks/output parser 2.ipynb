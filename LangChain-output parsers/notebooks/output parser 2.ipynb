{
 "cells": [
  {
   "cell_type": "markdown",
   "id": "29ffefd6-c31b-4cd1-966c-217af6a65439",
   "metadata": {},
   "source": [
    "COMMA-SEPARATED LIST OUTPUT PARSER"
   ]
  },
  {
   "cell_type": "code",
   "execution_count": 4,
   "id": "a056668d-6dc6-4565-9fe8-96a135bb9a22",
   "metadata": {},
   "outputs": [],
   "source": [
    "%load_ext dotenv\n",
    "%dotenv"
   ]
  },
  {
   "cell_type": "code",
   "execution_count": 5,
   "id": "d2d9d358-240a-4478-8f79-c4df58eab388",
   "metadata": {},
   "outputs": [],
   "source": [
    "from langchain_google_genai import ChatGoogleGenerativeAI"
   ]
  },
  {
   "cell_type": "code",
   "execution_count": 6,
   "id": "b0dcbf95-df34-4bae-9ea0-eaf3d4bc3a5c",
   "metadata": {},
   "outputs": [],
   "source": [
    "from langchain_core.messages import HumanMessage\n",
    "from langchain_core.output_parsers import CommaSeparatedListOutputParser"
   ]
  },
  {
   "cell_type": "code",
   "execution_count": 7,
   "id": "817f2ee4-b986-4baf-bd5e-47b10bc85ab0",
   "metadata": {},
   "outputs": [],
   "source": [
    "import os"
   ]
  },
  {
   "cell_type": "code",
   "execution_count": 8,
   "id": "0406ba25-e648-4407-b31e-fc760cb4e838",
   "metadata": {},
   "outputs": [],
   "source": [
    "chat = ChatGoogleGenerativeAI(\n",
    "    google_api_key = os.getenv(\"GEMINI_API_KEY\"),  \n",
    "    model = \"gemini-2.0-flash\",\n",
    "    temperature = 0,\n",
    "    max_output_tokens = 100,\n",
    "    model_kwargs = {\"seed\": 365}\n",
    ")"
   ]
  },
  {
   "cell_type": "code",
   "execution_count": 23,
   "id": "bc2e476e-970b-45c8-9443-c2a1dafdc6ee",
   "metadata": {},
   "outputs": [],
   "source": [
    "message_h = HumanMessage(content = f''' I've recently adopted a dog. Could you suggest some dog names? \n",
    "\n",
    "{CommaSeparatedListOutputParser().get_format_instructions()}\n",
    "''')"
   ]
  },
  {
   "cell_type": "code",
   "execution_count": 24,
   "id": "bd00ebda-9c92-4679-b4a0-e3043575ebdf",
   "metadata": {},
   "outputs": [
    {
     "name": "stdout",
     "output_type": "stream",
     "text": [
      " I've recently adopted a dog. Could you suggest some  dog names? \n",
      "\n",
      "Your response should be a list of comma separated values, eg: `foo, bar, baz` or `foo,bar,baz`\n",
      "\n"
     ]
    }
   ],
   "source": [
    "print(message_h.content)"
   ]
  },
  {
   "cell_type": "code",
   "execution_count": 25,
   "id": "9de7146d-b521-42ac-b830-b98faca6a089",
   "metadata": {},
   "outputs": [
    {
     "name": "stdout",
     "output_type": "stream",
     "text": [
      "Here are some dog name suggestions, separated by commas:\n",
      "\n",
      "Buddy, Max, Charlie, Cooper, Rocky, Bear, Duke, Tucker, Oliver, Jack, Bella, Lucy, Daisy, Luna, Sadie, Bailey, Maggie, Lola, Sophie, Chloe, Gus, Finn, Leo, Milo, Archie, Hazel, Willow, Ruby, Penny, Stella, Winston, Otis, Jasper, Frankie, Scout, Rosie, Coco, Pepper, Shadow, Bandit, Hunter, Ginger, Peanut, Biscuit,\n"
     ]
    }
   ],
   "source": [
    "response = chat.invoke([message_h])\n",
    "print(response.content)"
   ]
  },
  {
   "cell_type": "code",
   "execution_count": 26,
   "id": "9575ac3d-4078-40cc-a9b4-c510a9f78e82",
   "metadata": {},
   "outputs": [],
   "source": [
    "list_output_parser = CommaSeparatedListOutputParser()"
   ]
  },
  {
   "cell_type": "code",
   "execution_count": 27,
   "id": "f34a0e06-e9bf-437a-a7e6-44005b16fe7e",
   "metadata": {},
   "outputs": [],
   "source": [
    "response_parsed = list_output_parser.invoke(response)"
   ]
  },
  {
   "cell_type": "code",
   "execution_count": 28,
   "id": "f11f84d7-c4d5-4488-baf6-b9959d61853a",
   "metadata": {},
   "outputs": [
    {
     "data": {
      "text/plain": [
       "['Here are some dog name suggestions',\n",
       " 'separated by commas:',\n",
       " 'Buddy',\n",
       " 'Max',\n",
       " 'Charlie',\n",
       " 'Cooper',\n",
       " 'Rocky',\n",
       " 'Bear',\n",
       " 'Duke',\n",
       " 'Tucker',\n",
       " 'Oliver',\n",
       " 'Jack',\n",
       " 'Bella',\n",
       " 'Lucy',\n",
       " 'Daisy',\n",
       " 'Luna',\n",
       " 'Sadie',\n",
       " 'Bailey',\n",
       " 'Maggie',\n",
       " 'Lola',\n",
       " 'Sophie',\n",
       " 'Chloe',\n",
       " 'Gus',\n",
       " 'Finn',\n",
       " 'Leo',\n",
       " 'Milo',\n",
       " 'Archie',\n",
       " 'Hazel',\n",
       " 'Willow',\n",
       " 'Ruby',\n",
       " 'Penny',\n",
       " 'Stella',\n",
       " 'Winston',\n",
       " 'Otis',\n",
       " 'Jasper',\n",
       " 'Frankie',\n",
       " 'Scout',\n",
       " 'Rosie',\n",
       " 'Coco',\n",
       " 'Pepper',\n",
       " 'Shadow',\n",
       " 'Bandit',\n",
       " 'Hunter',\n",
       " 'Ginger',\n",
       " 'Peanut',\n",
       " 'Biscuit',\n",
       " '']"
      ]
     },
     "execution_count": 28,
     "metadata": {},
     "output_type": "execute_result"
    }
   ],
   "source": [
    "response_parsed"
   ]
  },
  {
   "cell_type": "code",
   "execution_count": null,
   "id": "e1862d38-bd21-4a2d-ab3a-ba9f268903ef",
   "metadata": {},
   "outputs": [],
   "source": []
  }
 ],
 "metadata": {
  "kernelspec": {
   "display_name": "langchain_env",
   "language": "python",
   "name": "langchain_env"
  },
  "language_info": {
   "codemirror_mode": {
    "name": "ipython",
    "version": 3
   },
   "file_extension": ".py",
   "mimetype": "text/x-python",
   "name": "python",
   "nbconvert_exporter": "python",
   "pygments_lexer": "ipython3",
   "version": "3.10.10"
  }
 },
 "nbformat": 4,
 "nbformat_minor": 5
}
