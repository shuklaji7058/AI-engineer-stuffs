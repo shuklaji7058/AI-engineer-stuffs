{
 "cells": [
  {
   "cell_type": "markdown",
   "id": "11880411-87f7-4eb7-94a7-d202428da86b",
   "metadata": {},
   "source": [
    "STRING OUTPUT PARSE"
   ]
  },
  {
   "cell_type": "code",
   "execution_count": 6,
   "id": "0331dca5-921e-46ee-8ecf-d4b29988c0a9",
   "metadata": {
    "collapsed": true,
    "jupyter": {
     "outputs_hidden": true
    },
    "scrolled": true
   },
   "outputs": [
    {
     "name": "stdout",
     "output_type": "stream",
     "text": [
      "Collecting langchain-core\n",
      "  Using cached langchain_core-0.3.69-py3-none-any.whl.metadata (5.8 kB)\n",
      "Collecting langsmith>=0.3.45 (from langchain-core)\n",
      "  Downloading langsmith-0.4.8-py3-none-any.whl.metadata (15 kB)\n",
      "Requirement already satisfied: tenacity!=8.4.0,<10.0.0,>=8.1.0 in c:\\users\\shukl\\anaconda3\\lib\\site-packages (from langchain-core) (8.2.2)\n",
      "Requirement already satisfied: jsonpatch<2.0,>=1.33 in c:\\users\\shukl\\anaconda3\\lib\\site-packages (from langchain-core) (1.33)\n",
      "Requirement already satisfied: PyYAML>=5.3 in c:\\users\\shukl\\anaconda3\\lib\\site-packages (from langchain-core) (6.0.1)\n",
      "Requirement already satisfied: typing-extensions>=4.7 in c:\\users\\shukl\\anaconda3\\lib\\site-packages (from langchain-core) (4.12.2)\n",
      "Requirement already satisfied: packaging>=23.2 in c:\\users\\shukl\\anaconda3\\lib\\site-packages (from langchain-core) (23.2)\n",
      "Requirement already satisfied: pydantic>=2.7.4 in c:\\users\\shukl\\anaconda3\\lib\\site-packages (from langchain-core) (2.11.7)\n",
      "Requirement already satisfied: jsonpointer>=1.9 in c:\\users\\shukl\\anaconda3\\lib\\site-packages (from jsonpatch<2.0,>=1.33->langchain-core) (2.1)\n",
      "Requirement already satisfied: httpx<1,>=0.23.0 in c:\\users\\shukl\\anaconda3\\lib\\site-packages (from langsmith>=0.3.45->langchain-core) (0.28.1)\n",
      "Collecting orjson<4.0.0,>=3.9.14 (from langsmith>=0.3.45->langchain-core)\n",
      "  Downloading orjson-3.11.0-cp312-cp312-win_amd64.whl.metadata (43 kB)\n",
      "Requirement already satisfied: requests<3,>=2 in c:\\users\\shukl\\anaconda3\\lib\\site-packages (from langsmith>=0.3.45->langchain-core) (2.32.2)\n",
      "Requirement already satisfied: requests-toolbelt<2.0.0,>=1.0.0 in c:\\users\\shukl\\anaconda3\\lib\\site-packages (from langsmith>=0.3.45->langchain-core) (1.0.0)\n",
      "Collecting zstandard<0.24.0,>=0.23.0 (from langsmith>=0.3.45->langchain-core)\n",
      "  Downloading zstandard-0.23.0-cp312-cp312-win_amd64.whl.metadata (3.0 kB)\n",
      "Requirement already satisfied: annotated-types>=0.6.0 in c:\\users\\shukl\\anaconda3\\lib\\site-packages (from pydantic>=2.7.4->langchain-core) (0.6.0)\n",
      "Requirement already satisfied: pydantic-core==2.33.2 in c:\\users\\shukl\\anaconda3\\lib\\site-packages (from pydantic>=2.7.4->langchain-core) (2.33.2)\n",
      "Requirement already satisfied: typing-inspection>=0.4.0 in c:\\users\\shukl\\anaconda3\\lib\\site-packages (from pydantic>=2.7.4->langchain-core) (0.4.0)\n",
      "Requirement already satisfied: anyio in c:\\users\\shukl\\anaconda3\\lib\\site-packages (from httpx<1,>=0.23.0->langsmith>=0.3.45->langchain-core) (4.2.0)\n",
      "Requirement already satisfied: certifi in c:\\users\\shukl\\anaconda3\\lib\\site-packages (from httpx<1,>=0.23.0->langsmith>=0.3.45->langchain-core) (2025.6.15)\n",
      "Requirement already satisfied: httpcore==1.* in c:\\users\\shukl\\anaconda3\\lib\\site-packages (from httpx<1,>=0.23.0->langsmith>=0.3.45->langchain-core) (1.0.2)\n",
      "Requirement already satisfied: idna in c:\\users\\shukl\\anaconda3\\lib\\site-packages (from httpx<1,>=0.23.0->langsmith>=0.3.45->langchain-core) (3.7)\n",
      "Requirement already satisfied: h11<0.15,>=0.13 in c:\\users\\shukl\\anaconda3\\lib\\site-packages (from httpcore==1.*->httpx<1,>=0.23.0->langsmith>=0.3.45->langchain-core) (0.14.0)\n",
      "Requirement already satisfied: charset-normalizer<4,>=2 in c:\\users\\shukl\\anaconda3\\lib\\site-packages (from requests<3,>=2->langsmith>=0.3.45->langchain-core) (2.0.4)\n",
      "Requirement already satisfied: urllib3<3,>=1.21.1 in c:\\users\\shukl\\anaconda3\\lib\\site-packages (from requests<3,>=2->langsmith>=0.3.45->langchain-core) (2.2.2)\n",
      "Requirement already satisfied: sniffio>=1.1 in c:\\users\\shukl\\anaconda3\\lib\\site-packages (from anyio->httpx<1,>=0.23.0->langsmith>=0.3.45->langchain-core) (1.3.0)\n",
      "Using cached langchain_core-0.3.69-py3-none-any.whl (441 kB)\n",
      "Downloading langsmith-0.4.8-py3-none-any.whl (367 kB)\n",
      "Downloading orjson-3.11.0-cp312-cp312-win_amd64.whl (129 kB)\n",
      "Downloading zstandard-0.23.0-cp312-cp312-win_amd64.whl (495 kB)\n",
      "Installing collected packages: zstandard, orjson, langsmith, langchain-core\n",
      "  Attempting uninstall: zstandard\n",
      "    Found existing installation: zstandard 0.22.0\n",
      "    Uninstalling zstandard-0.22.0:\n",
      "      Successfully uninstalled zstandard-0.22.0\n",
      "Successfully installed langchain-core-0.3.69 langsmith-0.4.8 orjson-3.11.0 zstandard-0.23.0\n"
     ]
    }
   ],
   "source": [
    "!pip install langchain-core\n"
   ]
  },
  {
   "cell_type": "code",
   "execution_count": 1,
   "id": "0a09245c-525c-4c66-b037-f18413c33e5b",
   "metadata": {},
   "outputs": [],
   "source": [
    "%reload_ext dotenv\n",
    "%dotenv"
   ]
  },
  {
   "cell_type": "code",
   "execution_count": 3,
   "id": "e2b8219a-7b51-4df5-baef-c431ead4ad63",
   "metadata": {},
   "outputs": [],
   "source": [
    "from langchain_google_genai import ChatGoogleGenerativeAI"
   ]
  },
  {
   "cell_type": "code",
   "execution_count": 4,
   "id": "4a838c60-bec5-4412-9fd4-2b6348c3879b",
   "metadata": {},
   "outputs": [],
   "source": [
    "from langchain_core.messages import HumanMessage\n",
    "from langchain_core.output_parsers import StrOutputParser"
   ]
  },
  {
   "cell_type": "code",
   "execution_count": 5,
   "id": "8af690b9-de90-42c3-b4d6-0cb11f4c9f72",
   "metadata": {},
   "outputs": [],
   "source": [
    "import os"
   ]
  },
  {
   "cell_type": "code",
   "execution_count": 6,
   "id": "a62fbc07-ffb7-4ff0-94a1-82de7509be27",
   "metadata": {},
   "outputs": [],
   "source": [
    "chat = ChatGoogleGenerativeAI(\n",
    "    google_api_key = os.getenv(\"GEMINI_API_KEY\"),  \n",
    "    model = \"gemini-2.0-flash\",\n",
    "    temperature = 0,\n",
    "    max_output_tokens = 100,\n",
    "    model_kwargs = {\"seed\": 365}\n",
    ")"
   ]
  },
  {
   "cell_type": "code",
   "execution_count": 7,
   "id": "d333409a-b82d-477f-b3f5-8b963016dd89",
   "metadata": {},
   "outputs": [],
   "source": [
    "message_h = HumanMessage(content = \"Can you give me an interesting fact I probably didn't know about?\")"
   ]
  },
  {
   "cell_type": "code",
   "execution_count": 8,
   "id": "f6c04b8c-54a5-417b-a039-b62a1b585188",
   "metadata": {},
   "outputs": [],
   "source": [
    "response = chat.invoke([message_h])"
   ]
  },
  {
   "cell_type": "code",
   "execution_count": 9,
   "id": "942ceb4e-dbbf-4a6b-a5b5-aa0e7ec3513a",
   "metadata": {},
   "outputs": [
    {
     "data": {
      "text/plain": [
       "AIMessage(content=\"Here's an interesting fact you probably didn't know:\\n\\n**Honey never spoils.**\\n\\nArchaeologists have found pots of honey in ancient Egyptian tombs that are over 3,000 years old and still perfectly edible. This is due to a combination of factors:\\n\\n*   **Low water content:** Honey is very low in moisture, which inhibits the growth of bacteria and microorganisms.\\n*   **Acidity:** Honey is naturally acidic, with a pH between 3.5\", additional_kwargs={}, response_metadata={'prompt_feedback': {'block_reason': 0, 'safety_ratings': []}, 'finish_reason': 'MAX_TOKENS', 'safety_ratings': []}, id='run--28197fce-b019-41ae-b3d6-32b734f995b2-0', usage_metadata={'input_tokens': 15, 'output_tokens': 100, 'total_tokens': 115, 'input_token_details': {'cache_read': 0}})"
      ]
     },
     "execution_count": 9,
     "metadata": {},
     "output_type": "execute_result"
    }
   ],
   "source": [
    "response"
   ]
  },
  {
   "cell_type": "code",
   "execution_count": 10,
   "id": "2a9ae693-f2a8-4ed4-9bc3-98360729cdc4",
   "metadata": {},
   "outputs": [],
   "source": [
    "str_output_parser = StrOutputParser()"
   ]
  },
  {
   "cell_type": "code",
   "execution_count": 12,
   "id": "34937242-4067-4701-b336-978b8d14203c",
   "metadata": {},
   "outputs": [
    {
     "data": {
      "text/plain": [
       "\"Here's an interesting fact you probably didn't know:\\n\\n**Honey never spoils.**\\n\\nArchaeologists have found pots of honey in ancient Egyptian tombs that are over 3,000 years old and still perfectly edible. This is due to a combination of factors:\\n\\n*   **Low water content:** Honey is very low in moisture, which inhibits the growth of bacteria and microorganisms.\\n*   **Acidity:** Honey is naturally acidic, with a pH between 3.5\""
      ]
     },
     "execution_count": 12,
     "metadata": {},
     "output_type": "execute_result"
    }
   ],
   "source": [
    "response_parsed = str_output_parser.invoke(response)\n",
    "response_parsed"
   ]
  }
 ],
 "metadata": {
  "kernelspec": {
   "display_name": "langchain_env",
   "language": "python",
   "name": "langchain_env"
  },
  "language_info": {
   "codemirror_mode": {
    "name": "ipython",
    "version": 3
   },
   "file_extension": ".py",
   "mimetype": "text/x-python",
   "name": "python",
   "nbconvert_exporter": "python",
   "pygments_lexer": "ipython3",
   "version": "3.10.10"
  }
 },
 "nbformat": 4,
 "nbformat_minor": 5
}
