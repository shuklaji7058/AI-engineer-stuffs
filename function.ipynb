{
 "cells": [
  {
   "cell_type": "code",
   "execution_count": 2,
   "id": "955bb82e-ac52-49a9-b354-29a6157ec045",
   "metadata": {},
   "outputs": [],
   "source": [
    "def anish(x):\n",
    "    return x + 10"
   ]
  },
  {
   "cell_type": "code",
   "execution_count": 3,
   "id": "28691893-d120-414b-823d-344dbc2d139d",
   "metadata": {},
   "outputs": [
    {
     "data": {
      "text/plain": [
       "13"
      ]
     },
     "execution_count": 3,
     "metadata": {},
     "output_type": "execute_result"
    }
   ],
   "source": [
    "anish(3)"
   ]
  },
  {
   "cell_type": "code",
   "execution_count": 7,
   "id": "6e81503d-49e2-4ac3-a58b-713e21f50f39",
   "metadata": {},
   "outputs": [],
   "source": [
    "def plus_ten(a):\n",
    "    result = a + 10\n",
    "    return result"
   ]
  },
  {
   "cell_type": "code",
   "execution_count": 8,
   "id": "584ea53b-ae1b-479c-a159-b2e8833d3198",
   "metadata": {},
   "outputs": [
    {
     "data": {
      "text/plain": [
       "12"
      ]
     },
     "execution_count": 8,
     "metadata": {},
     "output_type": "execute_result"
    }
   ],
   "source": [
    "plus_ten(2)"
   ]
  },
  {
   "cell_type": "markdown",
   "id": "3b56c5df-2554-4f48-b076-054b2cee8d4f",
   "metadata": {},
   "source": [
    "double function\n"
   ]
  },
  {
   "cell_type": "code",
   "execution_count": 5,
   "id": "83e2f66a-72d6-4ea6-8296-c6a3fdbf7eb0",
   "metadata": {},
   "outputs": [],
   "source": [
    "def vetan(v_ghanta):\n",
    "    return v_ghanta * 25\n",
    "def with_bonus(v_ghanta):\n",
    "    return vetan(v_ghanta) + 50"
   ]
  },
  {
   "cell_type": "code",
   "execution_count": 6,
   "id": "f62be5e8-0c83-42c5-a029-69627e8dca6d",
   "metadata": {},
   "outputs": [
    {
     "data": {
      "text/plain": [
       "(125, 175)"
      ]
     },
     "execution_count": 6,
     "metadata": {},
     "output_type": "execute_result"
    }
   ],
   "source": [
    "vetan(5),with_bonus(5)"
   ]
  },
  {
   "cell_type": "markdown",
   "id": "a2453a40-ab53-41f3-b065-20c712c92f5f",
   "metadata": {},
   "source": [
    "combining conditional statement and functions"
   ]
  },
  {
   "cell_type": "code",
   "execution_count": 17,
   "id": "0f2ccb9d-eded-4609-b087-2e5851c12108",
   "metadata": {},
   "outputs": [],
   "source": [
    "def age(x): #def function_name(isme arguments likhte hai)\n",
    "    if x >= 18:\n",
    "        return x\n",
    "    else:\n",
    "        return \"not drive\""
   ]
  },
  {
   "cell_type": "code",
   "execution_count": 18,
   "id": "3d534ee2-ca59-43e4-8176-332697712eef",
   "metadata": {},
   "outputs": [
    {
     "data": {
      "text/plain": [
       "'not drive'"
      ]
     },
     "execution_count": 18,
     "metadata": {},
     "output_type": "execute_result"
    }
   ],
   "source": [
    "age(17)"
   ]
  },
  {
   "cell_type": "code",
   "execution_count": 27,
   "id": "b4442c84-ddb3-48bb-b213-8a0948ace635",
   "metadata": {},
   "outputs": [],
   "source": [
    "def subtract_bc(a,b,c):\n",
    "    result = a + b*c\n",
    "    print(\"Parameter a equals\", a)\n",
    "    print(\"Parameter a equals\", b)\n",
    "    print(\"Parameter a equals\", c)\n",
    "    return result"
   ]
  },
  {
   "cell_type": "code",
   "execution_count": 28,
   "id": "bfaf305e-78ff-4b8d-8ed9-249e94f5d0dd",
   "metadata": {},
   "outputs": [
    {
     "name": "stdout",
     "output_type": "stream",
     "text": [
      "Parameter a equals 1\n",
      "Parameter a equals 2\n",
      "Parameter a equals 3\n"
     ]
    },
    {
     "data": {
      "text/plain": [
       "7"
      ]
     },
     "execution_count": 28,
     "metadata": {},
     "output_type": "execute_result"
    }
   ],
   "source": [
    "subtract_bc(1,2,3)"
   ]
  },
  {
   "cell_type": "code",
   "execution_count": 29,
   "id": "e266f345-f2fe-4aba-8966-594393d7de7e",
   "metadata": {},
   "outputs": [
    {
     "data": {
      "text/plain": [
       "54"
      ]
     },
     "execution_count": 29,
     "metadata": {},
     "output_type": "execute_result"
    }
   ],
   "source": [
    "max(12,34,54)"
   ]
  },
  {
   "cell_type": "code",
   "execution_count": 30,
   "id": "6ea770f5-eeb1-40ec-aa8a-8853f6a8f470",
   "metadata": {},
   "outputs": [
    {
     "data": {
      "text/plain": [
       "2"
      ]
     },
     "execution_count": 30,
     "metadata": {},
     "output_type": "execute_result"
    }
   ],
   "source": [
    "min(2,4,31,)"
   ]
  },
  {
   "cell_type": "code",
   "execution_count": 31,
   "id": "ab778991-c412-4b59-9c9d-9f1870f4a95b",
   "metadata": {},
   "outputs": [
    {
     "data": {
      "text/plain": [
       "20"
      ]
     },
     "execution_count": 31,
     "metadata": {},
     "output_type": "execute_result"
    }
   ],
   "source": [
    "z=-20\n",
    "abs(z)"
   ]
  },
  {
   "cell_type": "code",
   "execution_count": 33,
   "id": "4527d8fa-db74-4f55-8587-ec45fb2d2edd",
   "metadata": {},
   "outputs": [
    {
     "data": {
      "text/plain": [
       "5"
      ]
     },
     "execution_count": 33,
     "metadata": {},
     "output_type": "execute_result"
    }
   ],
   "source": [
    "len(\"anish\")"
   ]
  },
  {
   "cell_type": "code",
   "execution_count": 34,
   "id": "df820a5a-d65a-4289-b8e2-5b69cba415cd",
   "metadata": {},
   "outputs": [],
   "source": [
    "def distance_from_zero(x):\n",
    "    if type(x)==int:\n",
    "        return abs(x)\n",
    "    else:\n",
    "        print(\"Not possible\")\n",
    "    "
   ]
  },
  {
   "cell_type": "code",
   "execution_count": 37,
   "id": "5676b690-0b83-4a7b-b760-56a5d24b5866",
   "metadata": {},
   "outputs": [
    {
     "name": "stdout",
     "output_type": "stream",
     "text": [
      "Not possible\n"
     ]
    }
   ],
   "source": [
    "distance_from_zero(\"cat\")"
   ]
  },
  {
   "cell_type": "code",
   "execution_count": null,
   "id": "8bdc8227-b13e-4b3e-92a6-d02bb027a8f8",
   "metadata": {},
   "outputs": [],
   "source": []
  }
 ],
 "metadata": {
  "kernelspec": {
   "display_name": "Python [conda env:base] *",
   "language": "python",
   "name": "conda-base-py"
  },
  "language_info": {
   "codemirror_mode": {
    "name": "ipython",
    "version": 3
   },
   "file_extension": ".py",
   "mimetype": "text/x-python",
   "name": "python",
   "nbconvert_exporter": "python",
   "pygments_lexer": "ipython3",
   "version": "3.12.4"
  }
 },
 "nbformat": 4,
 "nbformat_minor": 5
}
